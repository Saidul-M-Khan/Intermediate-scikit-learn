{
  "nbformat": 4,
  "nbformat_minor": 0,
  "metadata": {
    "colab": {
      "name": "polynomial_regression_vs_linear_model.ipynb",
      "provenance": [],
      "collapsed_sections": [],
      "authorship_tag": "ABX9TyMdIJbDk+PDZBBEFTkQDaFu",
      "include_colab_link": true
    },
    "kernelspec": {
      "name": "python3",
      "display_name": "Python 3"
    }
  },
  "cells": [
    {
      "cell_type": "markdown",
      "metadata": {
        "id": "view-in-github",
        "colab_type": "text"
      },
      "source": [
        "<a href=\"https://colab.research.google.com/github/raqueeb/Intermediate-scikit-learn/blob/master/polynomial_regression_vs_linear_model.ipynb\" target=\"_parent\"><img src=\"https://colab.research.google.com/assets/colab-badge.svg\" alt=\"Open In Colab\"/></a>"
      ]
    },
    {
      "cell_type": "code",
      "metadata": {
        "id": "Kz0thWE4r1wt",
        "colab_type": "code",
        "colab": {}
      },
      "source": [
        "import numpy as np \n",
        "import matplotlib.pyplot as plt \n",
        "import pandas as pd"
      ],
      "execution_count": 0,
      "outputs": []
    },
    {
      "cell_type": "code",
      "metadata": {
        "id": "c-OO5vw_2NZH",
        "colab_type": "code",
        "colab": {}
      },
      "source": [
        "X = np.array([Business Analyst, Junior Consultant, Senior Consultant, Manager, Country Manager, Region Manager, Partner, \n",
        "Senior Partner, C-level, CEO]) # বড় X নয় কিন্তু\n",
        "y = np.array([45000, 50000, 60000, 80000, 110000, 150000, 200000, 300000, 500000, 1000000])\n",
        "\n",
        "# df = pd.read_csv('Salaries.csv') \n",
        "# X = df.iloc(:, 1:2].values \n",
        "# y = df.iloc(:, 2).values \n"
      ],
      "execution_count": 0,
      "outputs": []
    },
    {
      "cell_type": "code",
      "metadata": {
        "id": "WRaca9zA2Olg",
        "colab_type": "code",
        "colab": {}
      },
      "source": [
        "df"
      ],
      "execution_count": 0,
      "outputs": []
    },
    {
      "cell_type": "code",
      "metadata": {
        "id": "u20l7Qnx2jcE",
        "colab_type": "code",
        "colab": {}
      },
      "source": [
        "from sklearn.linear_model import LinearRegression \n",
        "lin_reg = LinearRegression() \n",
        "lin_reg.fit(X, y) "
      ],
      "execution_count": 0,
      "outputs": []
    },
    {
      "cell_type": "code",
      "metadata": {
        "id": "N1fvqa234y6o",
        "colab_type": "code",
        "colab": {}
      },
      "source": [
        "from sklearn.preprocessing import PolynomialFeatures \n",
        "poly_reg PolynomialFeatures(degree 4) \n",
        "X_poly poly_reg.fit_transform(X) \n",
        "poly_reg.fit(X_poly, y) \n",
        "lin_reg_2 = LinearRegression() "
      ],
      "execution_count": 0,
      "outputs": []
    },
    {
      "cell_type": "code",
      "metadata": {
        "id": "5DbyUpdjC1pa",
        "colab_type": "code",
        "colab": {}
      },
      "source": [
        "# Linear \n",
        "plt.scatter(X, y, color - 'red') \n",
        "plt.plot(X, lin_reg.predict(X), color - 'blue') \n",
        "plt.title('Truth or Bluff (Linear Regression)') \n",
        "plt.xlabel('Position level') \n",
        "plt.ylabel('Salary') \n",
        "plt.show() \n"
      ],
      "execution_count": 0,
      "outputs": []
    },
    {
      "cell_type": "code",
      "metadata": {
        "id": "pQb1VQSTC5dz",
        "colab_type": "code",
        "colab": {}
      },
      "source": [
        "# polynomial \n",
        "plt.scatter(X, y, color - 'red') \n",
        "plt.plot(X, lin_reg_2.predict(poly_reg.fittransform(X)), color - 'blue') \n",
        "plt.title('Truth or Bluff (Polynomial Regression)') \n",
        "plt.xlabel('Position level') \n",
        "plt.ylabel('Salary') \n",
        "plt.show() \n"
      ],
      "execution_count": 0,
      "outputs": []
    },
    {
      "cell_type": "code",
      "metadata": {
        "id": "4kznuVOiI5m2",
        "colab_type": "code",
        "colab": {}
      },
      "source": [
        "# results by Linear regression \n",
        "lin_reg.predict(([8.5])) \n",
        "\n",
        "# polynomial regression results \n",
        "lin_reg_2.predict(poly_reg.fit_transform(([8.5]])) \n"
      ],
      "execution_count": 0,
      "outputs": []
    }
  ]
}