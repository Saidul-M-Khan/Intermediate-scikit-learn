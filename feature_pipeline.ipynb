{
  "nbformat": 4,
  "nbformat_minor": 0,
  "metadata": {
    "colab": {
      "name": "feature_pipeline_updated.ipynb",
      "provenance": [],
      "include_colab_link": true
    },
    "kernelspec": {
      "display_name": "Python 3",
      "language": "python",
      "name": "python3"
    },
    "language_info": {
      "codemirror_mode": {
        "name": "ipython",
        "version": 3
      },
      "file_extension": ".py",
      "mimetype": "text/x-python",
      "name": "python",
      "nbconvert_exporter": "python",
      "pygments_lexer": "ipython3",
      "version": "3.7.6"
    }
  },
  "cells": [
    {
      "cell_type": "markdown",
      "metadata": {
        "id": "view-in-github",
        "colab_type": "text"
      },
      "source": [
        "<a href=\"https://colab.research.google.com/github/raqueeb/Intermediate-scikit-learn/blob/master/feature_pipeline.ipynb\" target=\"_parent\"><img src=\"https://colab.research.google.com/assets/colab-badge.svg\" alt=\"Open In Colab\"/></a>"
      ]
    },
    {
      "cell_type": "markdown",
      "metadata": {
        "colab_type": "text",
        "id": "80f60IZJYRKc"
      },
      "source": [
        "## ফিচার ইঞ্জিনিয়ারিং এবং পাইপলাইন"
      ]
    },
    {
      "cell_type": "markdown",
      "metadata": {
        "colab_type": "text",
        "id": "WjwqJ9ZWy8D1"
      },
      "source": [
        "আমাদের আগের বইটাতে লিনিয়ার রিগ্রেশন নিয়ে বেশি ফোকাস করেছিলাম। কারণ পৃথিবীর অনেক কিছুর সম্পর্ক লিনিয়ার। বাসার ঘরের সাথে ভাড়ার সম্পর্ক, পজিশনের সাথে স্যালারির সম্পর্ক। \n",
        "\n",
        "যদি ডেটা লিনিয়ার না হয়? তখন কিভাবে ডেটা ফিট করবো? সেটা নিয়ে আজকের গল্প। নতুন বইতে একটু নতুন গল্প। \n",
        "\n",
        "পলিনোমিয়াল রিগ্রেশন।\n",
        "\n",
        "দেখুন এখানে, https://github.com/raqueeb/Intermediate-scikit-learn/blob/master/feature_pipeline.ipynb"
      ]
    },
    {
      "cell_type": "code",
      "metadata": {
        "colab_type": "code",
        "id": "m0Z6XpZEjFg8",
        "outputId": "8a3e2fd8-1776-4cb8-8eaa-30fe29b0714e",
        "colab": {
          "base_uri": "https://localhost:8080/",
          "height": 265
        }
      },
      "source": [
        "import numpy as np\n",
        "from numpy import nan\n",
        "\n",
        "%matplotlib inline\n",
        "import matplotlib.pyplot as plt\n",
        "\n",
        "x = np.array([1, 2, 3, 4, 5, 6, 7, 8]) # বড় X নয় কিন্তু\n",
        "y = np.array([3, 2, 1, 4, 6, 7, 8, 5])\n",
        "\n",
        "plt.scatter(x, y);"
      ],
      "execution_count": 1,
      "outputs": [
        {
          "output_type": "display_data",
          "data": {
            "image/png": "[encoded data removed]",
            "text/plain": [
              "<Figure size 432x288 with 1 Axes>"
            ]
          },
          "metadata": {
            "tags": [],
            "needs_background": "light"
          }
        }
      ]
    },
    {
      "cell_type": "markdown",
      "metadata": {
        "colab_type": "text",
        "id": "-5J6TtGcmJ8G"
      },
      "source": [
        "মনে আছে সাইকিট-লার্নের ডেটা রিপ্রেজেন্টেশনের ছবিটার কথা? \n",
        "\n",
        "আমাদের ফিচার ম্যাট্রিক্স X এর জন্য দরকার ২ ডাইমেনশন, এবং টার্গেট অ্যারের জন্য এক ডাইমেনশন। দেখুন, আমাদের টার্গেট অ্যারে এক ডাইমেনশনেই আছে। দরকার Xকে একটা আসল ফর্মে নিয়ে আসতে মানে [n_samples, n_features] এ নিয়ে আসতে। আমাদের ফিচার সংখ্যা ১ হলেও সেটা প্রয়োজনীয় ফর্মে ফেলতে হবে।  \n",
        "\n",
        " একটা অ্যারেকে নতুন এক্সিস মানে ডাইমেনশনে ফেলি।"
      ]
    },
    {
      "cell_type": "markdown",
      "metadata": {
        "id": "rZFJEME429QI",
        "colab_type": "text"
      },
      "source": [
        "এখন কিভাবে আছে?"
      ]
    },
    {
      "cell_type": "code",
      "metadata": {
        "id": "tzbcXIep28Os",
        "colab_type": "code",
        "outputId": "c3429ca7-5ecd-4d3b-ea70-26d8192581bc",
        "colab": {
          "base_uri": "https://localhost:8080/",
          "height": 34
        }
      },
      "source": [
        "x.shape"
      ],
      "execution_count": 2,
      "outputs": [
        {
          "output_type": "execute_result",
          "data": {
            "text/plain": [
              "(8,)"
            ]
          },
          "metadata": {
            "tags": []
          },
          "execution_count": 2
        }
      ]
    },
    {
      "cell_type": "markdown",
      "metadata": {
        "id": "aF3ndX-i3Fp_",
        "colab_type": "text"
      },
      "source": [
        "হতে হবে [n_samples, n_features] মানে (8, 1) যেহেতু একটা ফিচার।"
      ]
    },
    {
      "cell_type": "code",
      "metadata": {
        "colab_type": "code",
        "id": "1HSf3haFUTYX",
        "colab": {}
      },
      "source": [
        "X = x[:, np.newaxis]"
      ],
      "execution_count": 0,
      "outputs": []
    },
    {
      "cell_type": "code",
      "metadata": {
        "colab_type": "code",
        "id": "JfLFBJ1IUUc6",
        "outputId": "8eb2e7e5-8100-4b41-a2cf-692bdb87ac94",
        "colab": {
          "base_uri": "https://localhost:8080/",
          "height": 151
        }
      },
      "source": [
        "X"
      ],
      "execution_count": 4,
      "outputs": [
        {
          "output_type": "execute_result",
          "data": {
            "text/plain": [
              "array([[1],\n",
              "       [2],\n",
              "       [3],\n",
              "       [4],\n",
              "       [5],\n",
              "       [6],\n",
              "       [7],\n",
              "       [8]])"
            ]
          },
          "metadata": {
            "tags": []
          },
          "execution_count": 4
        }
      ]
    },
    {
      "cell_type": "markdown",
      "metadata": {
        "id": "ccw0MmBo-lju",
        "colab_type": "text"
      },
      "source": [
        "নতুন শেপ দেখি, ফিচার ম্যাট্রিক্স কনফর্ম করে কিনা?"
      ]
    },
    {
      "cell_type": "code",
      "metadata": {
        "id": "d1SZdzjF-kUr",
        "colab_type": "code",
        "colab": {
          "base_uri": "https://localhost:8080/",
          "height": 34
        },
        "outputId": "ad360c4b-e7eb-4580-da96-4839a156c635"
      },
      "source": [
        "X.shape"
      ],
      "execution_count": 5,
      "outputs": [
        {
          "output_type": "execute_result",
          "data": {
            "text/plain": [
              "(8, 1)"
            ]
          },
          "metadata": {
            "tags": []
          },
          "execution_count": 5
        }
      ]
    },
    {
      "cell_type": "markdown",
      "metadata": {
        "colab_type": "text",
        "id": "Wd8Vd7quEG6k"
      },
      "source": [
        "## লিনিয়ার রিগ্রেশন দিয়ে ডেটাকে ফিট করছি\n",
        "\n",
        "এটা ভালো হয়নি, প্রচুর এরর"
      ]
    },
    {
      "cell_type": "code",
      "metadata": {
        "colab_type": "code",
        "id": "JVvExYKTMzkm",
        "outputId": "8517690a-ca8e-448a-c00b-c2a288d12c03",
        "colab": {
          "base_uri": "https://localhost:8080/",
          "height": 265
        }
      },
      "source": [
        "from sklearn.linear_model import LinearRegression\n",
        "\n",
        "model = LinearRegression().fit(X, y)\n",
        "yfit = model.predict(X)\n",
        "\n",
        "plt.scatter(x, y)\n",
        "plt.plot(x, yfit);"
      ],
      "execution_count": 6,
      "outputs": [
        {
          "output_type": "display_data",
          "data": {
            "image/png": "[encoded data removed]",
            "text/plain": [
              "<Figure size 432x288 with 1 Axes>"
            ]
          },
          "metadata": {
            "tags": [],
            "needs_background": "light"
          }
        }
      ]
    },
    {
      "cell_type": "code",
      "metadata": {
        "colab_type": "code",
        "id": "Ch6emYK8Mggb",
        "outputId": "ec1adda9-9457-49c0-d25b-b07611c2f559",
        "colab": {
          "base_uri": "https://localhost:8080/",
          "height": 34
        }
      },
      "source": [
        "model.coef_"
      ],
      "execution_count": 7,
      "outputs": [
        {
          "output_type": "execute_result",
          "data": {
            "text/plain": [
              "array([0.76190476])"
            ]
          },
          "metadata": {
            "tags": []
          },
          "execution_count": 7
        }
      ]
    },
    {
      "cell_type": "markdown",
      "metadata": {
        "colab_type": "text",
        "id": "glXaZou4-dpm"
      },
      "source": [
        "### সরল রেখার ফর্মুলা\n",
        "\n",
        "১ ডিগ্রী পলিনোমিয়াল মানে সরল রেখা, ফলে দরকার দুটো প্যারামিটার\n",
        "\n",
        "$y = mx + b$ এর মতো $y = a + bx$ অথবা $y = ax + b$"
      ]
    },
    {
      "cell_type": "code",
      "metadata": {
        "colab_type": "code",
        "id": "vPCG4BQKQcDr",
        "outputId": "4ae4e18d-5ae3-4fda-de73-4336bf53cad6",
        "colab": {
          "base_uri": "https://localhost:8080/",
          "height": 34
        }
      },
      "source": [
        "X.shape"
      ],
      "execution_count": 8,
      "outputs": [
        {
          "output_type": "execute_result",
          "data": {
            "text/plain": [
              "(8, 1)"
            ]
          },
          "metadata": {
            "tags": []
          },
          "execution_count": 8
        }
      ]
    },
    {
      "cell_type": "markdown",
      "metadata": {
        "colab_type": "text",
        "id": "qBxvTLtdZY8n"
      },
      "source": [
        "## পলিনোমিয়াল দিয়ে দেখি\n",
        "\n",
        "তিন ডিগ্রী পলিনোমিয়াল একটা কিউবিক কার্ভ দিয়ে ডেটাকে মেলাতে হলে a, b, c এবং d ৪টা প্যারামিটার হতে পারে।\n",
        "\n",
        "$y = a + bx + cx^2 + dx^3$\n",
        "\n",
        "৩ ডিগ্রী দিয়ে নতুন ফিচার"
      ]
    },
    {
      "cell_type": "code",
      "metadata": {
        "colab_type": "code",
        "id": "oQcrlVfEM5iY",
        "outputId": "1d64b995-31be-4a10-988d-2426e4c2d25f",
        "colab": {
          "base_uri": "https://localhost:8080/",
          "height": 151
        }
      },
      "source": [
        "from sklearn.preprocessing import PolynomialFeatures\n",
        "\n",
        "poly = PolynomialFeatures(degree=3, include_bias=False)\n",
        "X2 = poly.fit_transform(X)\n",
        "\n",
        "X2"
      ],
      "execution_count": 9,
      "outputs": [
        {
          "output_type": "execute_result",
          "data": {
            "text/plain": [
              "array([[  1.,   1.,   1.],\n",
              "       [  2.,   4.,   8.],\n",
              "       [  3.,   9.,  27.],\n",
              "       [  4.,  16.,  64.],\n",
              "       [  5.,  25., 125.],\n",
              "       [  6.,  36., 216.],\n",
              "       [  7.,  49., 343.],\n",
              "       [  8.,  64., 512.]])"
            ]
          },
          "metadata": {
            "tags": []
          },
          "execution_count": 9
        }
      ]
    },
    {
      "cell_type": "code",
      "metadata": {
        "colab_type": "code",
        "id": "QcYr7sm1Rexb",
        "outputId": "77207a82-0cf4-403f-8f64-5a9a85628c56",
        "colab": {
          "base_uri": "https://localhost:8080/",
          "height": 34
        }
      },
      "source": [
        "X2.shape"
      ],
      "execution_count": 10,
      "outputs": [
        {
          "output_type": "execute_result",
          "data": {
            "text/plain": [
              "(8, 3)"
            ]
          },
          "metadata": {
            "tags": []
          },
          "execution_count": 10
        }
      ]
    },
    {
      "cell_type": "markdown",
      "metadata": {
        "colab_type": "text",
        "id": "SWEq2uwpISPQ"
      },
      "source": [
        "$y = a + bx + cx^2 + dx^3$\n",
        "\n",
        "৩ ডিগ্রী দিয়ে নতুন ফিচার দেখি get_feature_names() দিয়ে।"
      ]
    },
    {
      "cell_type": "code",
      "metadata": {
        "colab_type": "code",
        "id": "xgCiOqzHR-N-",
        "outputId": "f263bdc9-29f1-49df-9943-a3a4f1433d79",
        "colab": {
          "base_uri": "https://localhost:8080/",
          "height": 34
        }
      },
      "source": [
        "poly.get_feature_names()"
      ],
      "execution_count": 11,
      "outputs": [
        {
          "output_type": "execute_result",
          "data": {
            "text/plain": [
              "['x0', 'x0^2', 'x0^3']"
            ]
          },
          "metadata": {
            "tags": []
          },
          "execution_count": 11
        }
      ]
    },
    {
      "cell_type": "code",
      "metadata": {
        "colab_type": "code",
        "id": "lPT2VCI2NMlU",
        "outputId": "51f34d85-1964-4a72-dd75-154d2df4b935",
        "colab": {
          "base_uri": "https://localhost:8080/",
          "height": 265
        }
      },
      "source": [
        "model = LinearRegression().fit(X2, y)\n",
        "yfit = model.predict(X2)\n",
        "\n",
        "plt.scatter(x, y)\n",
        "plt.plot(x, yfit);"
      ],
      "execution_count": 12,
      "outputs": [
        {
          "output_type": "display_data",
          "data": {
            "image/png": "[encoded data removed]",
            "text/plain": [
              "<Figure size 432x288 with 1 Axes>"
            ]
          },
          "metadata": {
            "tags": [],
            "needs_background": "light"
          }
        }
      ]
    },
    {
      "cell_type": "markdown",
      "metadata": {
        "colab_type": "text",
        "id": "4bF4s2PVD6B9"
      },
      "source": [
        "## নামপাই দিয়ে"
      ]
    },
    {
      "cell_type": "code",
      "metadata": {
        "colab_type": "code",
        "id": "xR0sbIm5Mpu-",
        "outputId": "441ade84-4b0b-4d8b-e9f6-25e4d5225706",
        "colab": {
          "base_uri": "https://localhost:8080/",
          "height": 0
        }
      },
      "source": [
        "coefs = np.polyfit(x, y, 3)\n",
        "obj = np.poly1d(coefs) #কোএফিসিয়েন্ট দেখতে চাইলে দেখতে পারেন\n",
        "x_line = np.linspace(min(x), max(x), 10) # x এর নতুন ভ্যালু\n",
        "y_line = obj(x_line)\n",
        "\n",
        "plt.plot(x, y, 'o')  \n",
        "plt.plot(x_line, y_line, 'r')"
      ],
      "execution_count": 13,
      "outputs": [
        {
          "output_type": "execute_result",
          "data": {
            "text/plain": [
              "[<matplotlib.lines.Line2D at 0x7f6a1d41a908>]"
            ]
          },
          "metadata": {
            "tags": []
          },
          "execution_count": 13
        },
        {
          "output_type": "display_data",
          "data": {
            "image/png": "[encoded data removed]",
            "text/plain": [
              "<Figure size 432x288 with 1 Axes>"
            ]
          },
          "metadata": {
            "tags": [],
            "needs_background": "light"
          }
        }
      ]
    },
    {
      "cell_type": "code",
      "metadata": {
        "colab_type": "code",
        "id": "ahU7rm0CMv0E",
        "outputId": "9c90951f-4cfa-4d04-8ad8-dde968e71df5",
        "colab": {
          "base_uri": "https://localhost:8080/",
          "height": 0
        }
      },
      "source": [
        "coefs"
      ],
      "execution_count": 14,
      "outputs": [
        {
          "output_type": "execute_result",
          "data": {
            "text/plain": [
              "array([-0.16161616,  2.13419913, -7.13275613,  8.35714286])"
            ]
          },
          "metadata": {
            "tags": []
          },
          "execution_count": 14
        }
      ]
    },
    {
      "cell_type": "markdown",
      "metadata": {
        "colab_type": "text",
        "id": "PzRnstR_VLcE"
      },
      "source": [
        "## আরেকটা উদাহরণ, ডেটা জেনারেট করি ফর্মুলা দিয়ে\n",
        "\n",
        "আমাদের ফর্মুলাতে একটা বর্গ থাকতে হবে, দুই ডিগ্রীর জন্য। আগের $y$কে ব্যবহার করবো সামনে, তাই এখানে $y1$\n",
        "\n",
        "$y1 = 0.5X^2 + X + 5 +$নয়েজ\n",
        "\n",
        "y1 = 0.5 * X**2 + X + 5 + np.random.randn(N, 1)"
      ]
    },
    {
      "cell_type": "code",
      "metadata": {
        "colab_type": "code",
        "id": "eILnir5FVcy-",
        "colab": {}
      },
      "source": [
        "# রেকর্ডের সংখ্যা ১০০ \n",
        "N = 100\n",
        "\n",
        "# আমরা কিছু ইন্ডিপেন্ডেন্ট ভ্যালু মানে X এর মান জেনারেট করি\n",
        "X = 10 * np.random.rand(N, 1) - 5\n",
        "y1 = 0.5 * X**2 + X + 5 + np.random.randn(N, 1)"
      ],
      "execution_count": 0,
      "outputs": []
    },
    {
      "cell_type": "markdown",
      "metadata": {
        "colab_type": "text",
        "id": "ANLYcl6aYm6-"
      },
      "source": [
        "আমরা এখানে y এর জন্য $X^2$ এর কোএফিসিয়েন্ট ০.৫ এবং $X$ এর কোএফিসিয়েন্ট ১। এর সাথে ইন্টারসেপ্ট ৫ + পাশাপাশি কিছু নয়েজ যোগ করা হয়েছে ডেটাকে রিয়ালিস্টিক দেখানোর জন্য।\n",
        "\n",
        "আমরা একটা মডেল তৈরি করে এর ভেতরের তিনটা কোএফিসিয়েন্ট বের করতে পারি কি না?"
      ]
    },
    {
      "cell_type": "code",
      "metadata": {
        "colab_type": "code",
        "id": "1ZT84OAphq7m",
        "outputId": "099a3b2d-f787-433b-980e-ae2722a483fe",
        "colab": {
          "base_uri": "https://localhost:8080/",
          "height": 0
        }
      },
      "source": [
        "plt.scatter(X, y1)\n",
        "plt.show()   "
      ],
      "execution_count": 16,
      "outputs": [
        {
          "output_type": "display_data",
          "data": {
            "image/png": "[encoded data removed]",
            "text/plain": [
              "<Figure size 432x288 with 1 Axes>"
            ]
          },
          "metadata": {
            "tags": [],
            "needs_background": "light"
          }
        }
      ]
    },
    {
      "cell_type": "markdown",
      "metadata": {
        "id": "pA7-ou52HjdY",
        "colab_type": "text"
      },
      "source": [
        "ফিচারের শেপ দেখি, একটা"
      ]
    },
    {
      "cell_type": "code",
      "metadata": {
        "id": "t9_wnIjKHp3A",
        "colab_type": "code",
        "outputId": "f38e0d65-dba3-46ff-ee2f-d9aeb9982457",
        "colab": {
          "base_uri": "https://localhost:8080/",
          "height": 0
        }
      },
      "source": [
        "X.shape"
      ],
      "execution_count": 17,
      "outputs": [
        {
          "output_type": "execute_result",
          "data": {
            "text/plain": [
              "(100, 1)"
            ]
          },
          "metadata": {
            "tags": []
          },
          "execution_count": 17
        }
      ]
    },
    {
      "cell_type": "markdown",
      "metadata": {
        "id": "Rv2EqRNkKBR1",
        "colab_type": "text"
      },
      "source": [
        "দুই ডিগ্রী মানে $X$ এবং $X^2$, দুটো ফিচার, $X^2$ হচ্ছে আমাদের ডিরাইভড ফিচার।"
      ]
    },
    {
      "cell_type": "code",
      "metadata": {
        "colab_type": "code",
        "id": "AlI7bGYorSCC",
        "outputId": "324622f8-e813-4e03-9ac1-4ab17a9465f8",
        "colab": {
          "base_uri": "https://localhost:8080/",
          "height": 0
        }
      },
      "source": [
        "from sklearn.preprocessing import PolynomialFeatures\n",
        "poly_features = PolynomialFeatures(degree=2, include_bias=False)\n",
        "x_poly = poly_features.fit_transform(X)\n",
        "\n",
        "poly_features.get_feature_names()"
      ],
      "execution_count": 18,
      "outputs": [
        {
          "output_type": "execute_result",
          "data": {
            "text/plain": [
              "['x0', 'x0^2']"
            ]
          },
          "metadata": {
            "tags": []
          },
          "execution_count": 18
        }
      ]
    },
    {
      "cell_type": "markdown",
      "metadata": {
        "id": "BibsDJ3lKxf2",
        "colab_type": "text"
      },
      "source": [
        "নতুন শেপ দেখুন।"
      ]
    },
    {
      "cell_type": "code",
      "metadata": {
        "id": "leOOM5oeJmZE",
        "colab_type": "code",
        "outputId": "c9071d6b-caa9-4c34-81ca-a27558128ebd",
        "colab": {
          "base_uri": "https://localhost:8080/",
          "height": 0
        }
      },
      "source": [
        "x_poly.shape"
      ],
      "execution_count": 19,
      "outputs": [
        {
          "output_type": "execute_result",
          "data": {
            "text/plain": [
              "(100, 2)"
            ]
          },
          "metadata": {
            "tags": []
          },
          "execution_count": 19
        }
      ]
    },
    {
      "cell_type": "markdown",
      "metadata": {
        "id": "KD2zFNzsK5Bz",
        "colab_type": "text"
      },
      "source": [
        "প্রথম ৫টা ফিচারের কলাম দেখি।"
      ]
    },
    {
      "cell_type": "code",
      "metadata": {
        "id": "s1GUOqqoInVG",
        "colab_type": "code",
        "outputId": "afb737f5-433c-4584-d3c6-cdbe0e6e5fae",
        "colab": {
          "base_uri": "https://localhost:8080/",
          "height": 0
        }
      },
      "source": [
        "x_poly[:5]"
      ],
      "execution_count": 20,
      "outputs": [
        {
          "output_type": "execute_result",
          "data": {
            "text/plain": [
              "array([[-0.38697577,  0.14975024],\n",
              "       [-4.7250927 , 22.326501  ],\n",
              "       [ 0.5211663 ,  0.27161432],\n",
              "       [-0.31243783,  0.0976174 ],\n",
              "       [ 0.47294203,  0.22367416]])"
            ]
          },
          "metadata": {
            "tags": []
          },
          "execution_count": 20
        }
      ]
    },
    {
      "cell_type": "markdown",
      "metadata": {
        "id": "beYMSzP1LCin",
        "colab_type": "text"
      },
      "source": [
        "একটা থেকে আরেকটা বর্গ হয় কিনা?"
      ]
    },
    {
      "cell_type": "code",
      "metadata": {
        "id": "-dTFag7aIxw0",
        "colab_type": "code",
        "outputId": "e710229e-733c-4577-aa7b-3c27cc43e113",
        "colab": {
          "base_uri": "https://localhost:8080/",
          "height": 0
        }
      },
      "source": [
        "2.32672013**2"
      ],
      "execution_count": 21,
      "outputs": [
        {
          "output_type": "execute_result",
          "data": {
            "text/plain": [
              "5.413626563347217"
            ]
          },
          "metadata": {
            "tags": []
          },
          "execution_count": 21
        }
      ]
    },
    {
      "cell_type": "code",
      "metadata": {
        "colab_type": "code",
        "id": "OrSAGQb9rYi-",
        "outputId": "f5c5d768-edb4-40b4-b886-f15adf0eff83",
        "colab": {
          "base_uri": "https://localhost:8080/",
          "height": 0
        }
      },
      "source": [
        "from sklearn.linear_model import LinearRegression\n",
        "lr = LinearRegression()\n",
        "lr.fit(x_poly, y1)\n",
        "\n",
        "lr.intercept_, lr.coef_"
      ],
      "execution_count": 22,
      "outputs": [
        {
          "output_type": "execute_result",
          "data": {
            "text/plain": [
              "(array([4.67980646]), array([[0.98194019, 0.51346076]]))"
            ]
          },
          "metadata": {
            "tags": []
          },
          "execution_count": 22
        }
      ]
    },
    {
      "cell_type": "code",
      "metadata": {
        "id": "QaH5XYiZd_Li",
        "colab_type": "code",
        "outputId": "2f99c26e-a08b-4b55-b055-f2da3766c758",
        "colab": {
          "base_uri": "https://localhost:8080/",
          "height": 0
        }
      },
      "source": [
        "yfit = lr.predict(x_poly)\n",
        "\n",
        "plt.scatter(X, y1)\n",
        "plt.plot(X, yfit);"
      ],
      "execution_count": 23,
      "outputs": [
        {
          "output_type": "display_data",
          "data": {
            "image/png": "[encoded data removed]",
            "text/plain": [
              "<Figure size 432x288 with 1 Axes>"
            ]
          },
          "metadata": {
            "tags": [],
            "needs_background": "light"
          }
        }
      ]
    },
    {
      "cell_type": "code",
      "metadata": {
        "colab_type": "code",
        "id": "aH_n0tE9rcSH",
        "colab": {}
      },
      "source": [
        "X_new = np.array([[0], [2], [5]])\n",
        "X_poly_new = poly_features.fit_transform(X_new)\n",
        "y_predict = lr.predict(X_poly_new)"
      ],
      "execution_count": 0,
      "outputs": []
    },
    {
      "cell_type": "code",
      "metadata": {
        "colab_type": "code",
        "id": "FEGuvO2StD0E",
        "outputId": "1f72d607-b338-4e15-c168-5758a38432c4",
        "colab": {
          "base_uri": "https://localhost:8080/",
          "height": 0
        }
      },
      "source": [
        "y_predict"
      ],
      "execution_count": 25,
      "outputs": [
        {
          "output_type": "execute_result",
          "data": {
            "text/plain": [
              "array([[ 4.67980646],\n",
              "       [ 8.69752987],\n",
              "       [22.42602635]])"
            ]
          },
          "metadata": {
            "tags": []
          },
          "execution_count": 25
        }
      ]
    },
    {
      "cell_type": "code",
      "metadata": {
        "colab_type": "code",
        "id": "jex6itEvuMiv",
        "outputId": "73bec41e-a02a-4d4b-c207-0ea8d0907da7",
        "colab": {
          "base_uri": "https://localhost:8080/",
          "height": 0
        }
      },
      "source": [
        "y_original = 0.5 * 0 + 0 + 5  # আমরা প্রেডিক্ট করেছিলাম 5.00....\n",
        "y_original"
      ],
      "execution_count": 26,
      "outputs": [
        {
          "output_type": "execute_result",
          "data": {
            "text/plain": [
              "5.0"
            ]
          },
          "metadata": {
            "tags": []
          },
          "execution_count": 26
        }
      ]
    },
    {
      "cell_type": "code",
      "metadata": {
        "colab_type": "code",
        "id": "7_lkytAguO8p",
        "outputId": "8377afd0-794e-4d80-b709-43e277b3e7c0",
        "colab": {
          "base_uri": "https://localhost:8080/",
          "height": 0
        }
      },
      "source": [
        "y_original = 0.5 * (2**2) + 2 + 5 #আমরা প্রেডিক্ট করেছিলাম 8.97....\n",
        "y_original"
      ],
      "execution_count": 27,
      "outputs": [
        {
          "output_type": "execute_result",
          "data": {
            "text/plain": [
              "9.0"
            ]
          },
          "metadata": {
            "tags": []
          },
          "execution_count": 27
        }
      ]
    },
    {
      "cell_type": "code",
      "metadata": {
        "colab_type": "code",
        "id": "QAml_7z_uSYN",
        "outputId": "edf19897-05a1-45ed-f14d-568b8b407672",
        "colab": {
          "base_uri": "https://localhost:8080/",
          "height": 0
        }
      },
      "source": [
        "y_original = 0.5 * (5**2) + 5 + 5 #আমরা প্রেডিক্ট করেছিলাম 22.24...\n",
        "y_original   "
      ],
      "execution_count": 28,
      "outputs": [
        {
          "output_type": "execute_result",
          "data": {
            "text/plain": [
              "22.5"
            ]
          },
          "metadata": {
            "tags": []
          },
          "execution_count": 28
        }
      ]
    },
    {
      "cell_type": "markdown",
      "metadata": {
        "colab_type": "text",
        "id": "xdU4T3IqVNQl"
      },
      "source": [
        "## আমরা একটা পাইপলাইনের উদাহরণ দেখি"
      ]
    },
    {
      "cell_type": "code",
      "metadata": {
        "colab_type": "code",
        "id": "itivQxorOLlN",
        "colab": {}
      },
      "source": [
        "X = np.array([[  1.,   1.,   1.],\n",
        "              [  2.,   4.,   8.],\n",
        "              [  3.,   9.,  27.],\n",
        "              [  4.,  nan,  64.],\n",
        "              [  5.,  25., 125.],\n",
        "              [  6.,  36., 216.],\n",
        "              [  7.,  49., nan, ],\n",
        "              [  8.,  64., 512.]])"
      ],
      "execution_count": 0,
      "outputs": []
    },
    {
      "cell_type": "code",
      "metadata": {
        "colab_type": "code",
        "id": "8GyvvbXOjfpr",
        "outputId": "8b1bd8df-b639-4c17-a10e-83f26f31ef2a",
        "colab": {
          "base_uri": "https://localhost:8080/",
          "height": 0
        }
      },
      "source": [
        "from sklearn.impute import SimpleImputer\n",
        "imputer = SimpleImputer(strategy='mean')\n",
        "\n",
        "X2 = imputer.fit_transform(X)\n",
        "X2"
      ],
      "execution_count": 30,
      "outputs": [
        {
          "output_type": "execute_result",
          "data": {
            "text/plain": [
              "array([[  1.        ,   1.        ,   1.        ],\n",
              "       [  2.        ,   4.        ,   8.        ],\n",
              "       [  3.        ,   9.        ,  27.        ],\n",
              "       [  4.        ,  26.85714286,  64.        ],\n",
              "       [  5.        ,  25.        , 125.        ],\n",
              "       [  6.        ,  36.        , 216.        ],\n",
              "       [  7.        ,  49.        , 136.14285714],\n",
              "       [  8.        ,  64.        , 512.        ]])"
            ]
          },
          "metadata": {
            "tags": []
          },
          "execution_count": 30
        }
      ]
    },
    {
      "cell_type": "code",
      "metadata": {
        "colab_type": "code",
        "id": "vwrZUijf5_uZ",
        "outputId": "0eb0c5ca-efb9-44f3-e64a-66686fa925fc",
        "colab": {
          "base_uri": "https://localhost:8080/",
          "height": 0
        }
      },
      "source": [
        "from sklearn.preprocessing import MinMaxScaler\n",
        "scaler = MinMaxScaler()\n",
        "\n",
        "X_scaled = scaler.fit_transform(X2)\n",
        "\n",
        "X_scaled"
      ],
      "execution_count": 31,
      "outputs": [
        {
          "output_type": "execute_result",
          "data": {
            "text/plain": [
              "array([[0.        , 0.        , 0.        ],\n",
              "       [0.14285714, 0.04761905, 0.01369863],\n",
              "       [0.28571429, 0.12698413, 0.05088063],\n",
              "       [0.42857143, 0.41043084, 0.12328767],\n",
              "       [0.57142857, 0.38095238, 0.24266145],\n",
              "       [0.71428571, 0.55555556, 0.42074364],\n",
              "       [0.85714286, 0.76190476, 0.26446743],\n",
              "       [1.        , 1.        , 1.        ]])"
            ]
          },
          "metadata": {
            "tags": []
          },
          "execution_count": 31
        }
      ]
    },
    {
      "cell_type": "code",
      "metadata": {
        "colab_type": "code",
        "id": "naqOQ8vrBE1z",
        "outputId": "eeab6317-5214-44cb-ed9e-bdbb5f3573fa",
        "colab": {
          "base_uri": "https://localhost:8080/",
          "height": 0
        }
      },
      "source": [
        "from sklearn.linear_model import Ridge\n",
        "\n",
        "linridge = Ridge(alpha=20.0).fit(X_scaled, y)\n",
        "\n",
        "linridge"
      ],
      "execution_count": 32,
      "outputs": [
        {
          "output_type": "execute_result",
          "data": {
            "text/plain": [
              "Ridge(alpha=20.0, copy_X=True, fit_intercept=True, max_iter=None,\n",
              "      normalize=False, random_state=None, solver='auto', tol=0.001)"
            ]
          },
          "metadata": {
            "tags": []
          },
          "execution_count": 32
        }
      ]
    },
    {
      "cell_type": "code",
      "metadata": {
        "colab_type": "code",
        "id": "2qCC5WAeBi9o",
        "outputId": "dd7704a8-ac13-4fe5-e7b8-120d6bcc83b3",
        "colab": {
          "base_uri": "https://localhost:8080/",
          "height": 0
        }
      },
      "source": [
        "X_scaled"
      ],
      "execution_count": 33,
      "outputs": [
        {
          "output_type": "execute_result",
          "data": {
            "text/plain": [
              "array([[0.        , 0.        , 0.        ],\n",
              "       [0.14285714, 0.04761905, 0.01369863],\n",
              "       [0.28571429, 0.12698413, 0.05088063],\n",
              "       [0.42857143, 0.41043084, 0.12328767],\n",
              "       [0.57142857, 0.38095238, 0.24266145],\n",
              "       [0.71428571, 0.55555556, 0.42074364],\n",
              "       [0.85714286, 0.76190476, 0.26446743],\n",
              "       [1.        , 1.        , 1.        ]])"
            ]
          },
          "metadata": {
            "tags": []
          },
          "execution_count": 33
        }
      ]
    },
    {
      "cell_type": "code",
      "metadata": {
        "colab_type": "code",
        "id": "rtpQVgorkVOC",
        "outputId": "cf13b33e-5e90-493e-a4a4-72d685b6b933",
        "colab": {
          "base_uri": "https://localhost:8080/",
          "height": 0
        }
      },
      "source": [
        "from sklearn.linear_model import LinearRegression\n",
        "\n",
        "model = LinearRegression().fit(X2, y)\n",
        "model.predict(X2)"
      ],
      "execution_count": 34,
      "outputs": [
        {
          "output_type": "execute_result",
          "data": {
            "text/plain": [
              "array([1.37756364, 2.40616197, 3.39670132, 4.7353445 , 5.02305926,\n",
              "       5.53860593, 7.84880847, 5.67375491])"
            ]
          },
          "metadata": {
            "tags": []
          },
          "execution_count": 34
        }
      ]
    },
    {
      "cell_type": "code",
      "metadata": {
        "colab_type": "code",
        "id": "B4XQKBQXSLZz",
        "colab": {}
      },
      "source": [
        "from sklearn.pipeline import Pipeline\n",
        "\n",
        "pipe = Pipeline([('imputer', SimpleImputer(strategy='mean')),\n",
        "                ('minmax', MinMaxScaler()),\n",
        "                ('poly',  PolynomialFeatures(degree=2, include_bias=False)),\n",
        "                ('lr', LinearRegression())])"
      ],
      "execution_count": 0,
      "outputs": []
    },
    {
      "cell_type": "code",
      "metadata": {
        "colab_type": "code",
        "id": "t3SHM5bwXdLW",
        "outputId": "f8369526-7717-4e04-9630-8118cd2005df",
        "colab": {
          "base_uri": "https://localhost:8080/",
          "height": 0
        }
      },
      "source": [
        "pipe.fit(X, y)  # এই X এর মধ্যে ভাল্যু মিসিং আছে "
      ],
      "execution_count": 36,
      "outputs": [
        {
          "output_type": "execute_result",
          "data": {
            "text/plain": [
              "Pipeline(memory=None,\n",
              "         steps=[('imputer',\n",
              "                 SimpleImputer(add_indicator=False, copy=True, fill_value=None,\n",
              "                               missing_values=nan, strategy='mean',\n",
              "                               verbose=0)),\n",
              "                ('minmax', MinMaxScaler(copy=True, feature_range=(0, 1))),\n",
              "                ('poly',\n",
              "                 PolynomialFeatures(degree=2, include_bias=False,\n",
              "                                    interaction_only=False, order='C')),\n",
              "                ('lr',\n",
              "                 LinearRegression(copy_X=True, fit_intercept=True, n_jobs=None,\n",
              "                                  normalize=False))],\n",
              "         verbose=False)"
            ]
          },
          "metadata": {
            "tags": []
          },
          "execution_count": 36
        }
      ]
    },
    {
      "cell_type": "code",
      "metadata": {
        "colab_type": "code",
        "id": "2KDbOB_eaFL1",
        "outputId": "f6242551-111b-4f32-e20d-021e7eb29928",
        "colab": {
          "base_uri": "https://localhost:8080/",
          "height": 0
        }
      },
      "source": [
        "print(y)\n",
        "print(pipe.predict(X))"
      ],
      "execution_count": 37,
      "outputs": [
        {
          "output_type": "stream",
          "text": [
            "[3 2 1 4 6 7 8 5]\n",
            "[3. 2. 1. 4. 6. 7. 8. 5.]\n"
          ],
          "name": "stdout"
        }
      ]
    },
    {
      "cell_type": "code",
      "metadata": {
        "colab_type": "code",
        "id": "ctjUthzkaBXp",
        "outputId": "c854c70b-c611-4387-e231-1b2da946b706",
        "colab": {
          "base_uri": "https://localhost:8080/",
          "height": 0
        }
      },
      "source": [
        "score = pipe.score(X, y)\n",
        "print('Linear Regression pipeline test accuracy: %.2f' % score)"
      ],
      "execution_count": 38,
      "outputs": [
        {
          "output_type": "stream",
          "text": [
            "Linear Regression pipeline test accuracy: 1.00\n"
          ],
          "name": "stdout"
        }
      ]
    }
  ]
}