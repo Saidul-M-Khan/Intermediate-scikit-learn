{
  "nbformat": 4,
  "nbformat_minor": 0,
  "metadata": {
    "colab": {
      "name": "feature_pipeline_updated.ipynb",
      "provenance": [],
      "include_colab_link": true
    },
    "kernelspec": {
      "display_name": "Python 3",
      "language": "python",
      "name": "python3"
    },
    "language_info": {
      "codemirror_mode": {
        "name": "ipython",
        "version": 3
      },
      "file_extension": ".py",
      "mimetype": "text/x-python",
      "name": "python",
      "nbconvert_exporter": "python",
      "pygments_lexer": "ipython3",
      "version": "3.7.6"
    }
  },
  "cells": [
    {
      "cell_type": "markdown",
      "metadata": {
        "id": "view-in-github",
        "colab_type": "text"
      },
      "source": [
        "<a href=\"https://colab.research.google.com/github/raqueeb/Intermediate-scikit-learn/blob/master/feature_pipeline.ipynb\" target=\"_parent\"><img src=\"https://colab.research.google.com/assets/colab-badge.svg\" alt=\"Open In Colab\"/></a>"
      ]
    },
    {
      "cell_type": "markdown",
      "metadata": {
        "colab_type": "text",
        "id": "80f60IZJYRKc"
      },
      "source": [
        "## ফিচার ইঞ্জিনিয়ারিং এবং পাইপলাইন"
      ]
    },
    {
      "cell_type": "markdown",
      "metadata": {
        "colab_type": "text",
        "id": "WjwqJ9ZWy8D1"
      },
      "source": [
        "আমাদের আগের বইটাতে লিনিয়ার রিগ্রেশন নিয়ে বেশি ফোকাস করেছিলাম। কারণ পৃথিবীর অনেক কিছুর সম্পর্ক লিনিয়ার। বাসার ঘরের সাথে ভাড়ার সম্পর্ক, পজিশনের সাথে স্যালারির সম্পর্ক। \n",
        "\n",
        "যদি ডেটা লিনিয়ার না হয়? তখন কিভাবে ডেটা ফিট করবো? সেটা নিয়ে আজকের গল্প। নতুন বইতে একটু নতুন গল্প। \n",
        "\n",
        "পলিনোমিয়াল রিগ্রেশন।\n",
        "\n",
        "দেখুন এখানে, https://github.com/raqueeb/Intermediate-scikit-learn/blob/master/feature_pipeline.ipynb"
      ]
    },
    {
      "cell_type": "code",
      "metadata": {
        "colab_type": "code",
        "id": "m0Z6XpZEjFg8",
        "outputId": "a888c171-aa7c-41da-cdd4-b2498e60f8db",
        "colab": {
          "base_uri": "https://localhost:8080/",
          "height": 265
        }
      },
      "source": [
        "import numpy as np\n",
        "from numpy import nan\n",
        "\n",
        "%matplotlib inline\n",
        "import matplotlib.pyplot as plt\n",
        "\n",
        "x = np.array([1, 2, 3, 4, 5, 6, 7, 8]) # বড় X নয় কিন্তু\n",
        "y = np.array([3, 2, 1, 4, 6, 7, 8, 5])\n",
        "\n",
        "plt.scatter(x, y);"
      ],
      "execution_count": 1,
      "outputs": [
        {
          "output_type": "display_data",
          "data": {
            "image/png": "[encoded data removed]",
            "text/plain": [
              "<Figure size 432x288 with 1 Axes>"
            ]
          },
          "metadata": {
            "tags": [],
            "needs_background": "light"
          }
        }
      ]
    },
    {
      "cell_type": "markdown",
      "metadata": {
        "colab_type": "text",
        "id": "-5J6TtGcmJ8G"
      },
      "source": [
        "মনে আছে সাইকিট-লার্নের ডেটা রিপ্রেজেন্টেশনের ছবিটার কথা? \n",
        "\n",
        "আমাদের ফিচার ম্যাট্রিক্স X এর জন্য দরকার ২ ডাইমেনশন, এবং টার্গেট অ্যারের জন্য এক ডাইমেনশন। দেখুন, আমাদের টার্গেট অ্যারে এক ডাইমেনশনেই আছে। দরকার Xকে একটা আসল ফর্মে নিয়ে আসতে মানে [n_samples, n_features] এ নিয়ে আসতে। আমাদের ফিচার সংখ্যা ১ হলেও সেটা প্রয়োজনীয় ফর্মে ফেলতে হবে।  \n",
        "\n",
        " একটা অ্যারেকে নতুন এক্সিস মানে ডাইমেনশনে ফেলি।"
      ]
    },
    {
      "cell_type": "markdown",
      "metadata": {
        "id": "rZFJEME429QI",
        "colab_type": "text"
      },
      "source": [
        "এখন কিভাবে আছে?"
      ]
    },
    {
      "cell_type": "code",
      "metadata": {
        "id": "tzbcXIep28Os",
        "colab_type": "code",
        "colab": {
          "base_uri": "https://localhost:8080/",
          "height": 34
        },
        "outputId": "93b0196b-b9df-40da-f765-e60949a41fda"
      },
      "source": [
        "x.shape"
      ],
      "execution_count": 2,
      "outputs": [
        {
          "output_type": "execute_result",
          "data": {
            "text/plain": [
              "(8,)"
            ]
          },
          "metadata": {
            "tags": []
          },
          "execution_count": 2
        }
      ]
    },
    {
      "cell_type": "markdown",
      "metadata": {
        "id": "aF3ndX-i3Fp_",
        "colab_type": "text"
      },
      "source": [
        "হতে হবে [n_samples, n_features] মানে (8, 1) যেহেতু একটা ফিচার।"
      ]
    },
    {
      "cell_type": "code",
      "metadata": {
        "colab_type": "code",
        "id": "1HSf3haFUTYX",
        "colab": {}
      },
      "source": [
        "X = x[:, np.newaxis]"
      ],
      "execution_count": 0,
      "outputs": []
    },
    {
      "cell_type": "code",
      "metadata": {
        "colab_type": "code",
        "id": "JfLFBJ1IUUc6",
        "outputId": "f99588a1-73d8-44a0-8443-7f0039f096a5",
        "colab": {
          "base_uri": "https://localhost:8080/",
          "height": 151
        }
      },
      "source": [
        "X"
      ],
      "execution_count": 4,
      "outputs": [
        {
          "output_type": "execute_result",
          "data": {
            "text/plain": [
              "array([[1],\n",
              "       [2],\n",
              "       [3],\n",
              "       [4],\n",
              "       [5],\n",
              "       [6],\n",
              "       [7],\n",
              "       [8]])"
            ]
          },
          "metadata": {
            "tags": []
          },
          "execution_count": 4
        }
      ]
    },
    {
      "cell_type": "markdown",
      "metadata": {
        "colab_type": "text",
        "id": "Wd8Vd7quEG6k"
      },
      "source": [
        "## লিনিয়ার রিগ্রেশন দিয়ে ডেটাকে ফিট করছি\n",
        "\n",
        "এটা ভালো হয়নি, প্রচুর এরর"
      ]
    },
    {
      "cell_type": "code",
      "metadata": {
        "colab_type": "code",
        "id": "JVvExYKTMzkm",
        "outputId": "82fc31df-697d-4da2-a371-aef7f1e05354",
        "colab": {
          "base_uri": "https://localhost:8080/",
          "height": 265
        }
      },
      "source": [
        "from sklearn.linear_model import LinearRegression\n",
        "\n",
        "model = LinearRegression().fit(X, y)\n",
        "yfit = model.predict(X)\n",
        "\n",
        "plt.scatter(x, y)\n",
        "plt.plot(x, yfit);"
      ],
      "execution_count": 5,
      "outputs": [
        {
          "output_type": "display_data",
          "data": {
            "image/png": "[encoded data removed]",
            "text/plain": [
              "<Figure size 432x288 with 1 Axes>"
            ]
          },
          "metadata": {
            "tags": [],
            "needs_background": "light"
          }
        }
      ]
    },
    {
      "cell_type": "code",
      "metadata": {
        "colab_type": "code",
        "id": "Ch6emYK8Mggb",
        "outputId": "a6c2fe6b-4ec1-4499-bac6-6a0e789d529d",
        "colab": {
          "base_uri": "https://localhost:8080/",
          "height": 34
        }
      },
      "source": [
        "model.coef_"
      ],
      "execution_count": 6,
      "outputs": [
        {
          "output_type": "execute_result",
          "data": {
            "text/plain": [
              "array([0.76190476])"
            ]
          },
          "metadata": {
            "tags": []
          },
          "execution_count": 6
        }
      ]
    },
    {
      "cell_type": "markdown",
      "metadata": {
        "colab_type": "text",
        "id": "glXaZou4-dpm"
      },
      "source": [
        "### সরল রেখার ফর্মুলা\n",
        "\n",
        "১ ডিগ্রী পলিনোমিয়াল মানে সরল রেখা, ফলে দরকার দুটো প্যারামিটার\n",
        "\n",
        "$y = mx + b$ এর মতো $y = a + bx$ অথবা $y = ax + b$"
      ]
    },
    {
      "cell_type": "code",
      "metadata": {
        "colab_type": "code",
        "id": "vPCG4BQKQcDr",
        "outputId": "fd1ebfbd-dcc8-48b6-84f5-8824da5f5f3f",
        "colab": {
          "base_uri": "https://localhost:8080/",
          "height": 34
        }
      },
      "source": [
        "X.shape"
      ],
      "execution_count": 7,
      "outputs": [
        {
          "output_type": "execute_result",
          "data": {
            "text/plain": [
              "(8, 1)"
            ]
          },
          "metadata": {
            "tags": []
          },
          "execution_count": 7
        }
      ]
    },
    {
      "cell_type": "markdown",
      "metadata": {
        "colab_type": "text",
        "id": "qBxvTLtdZY8n"
      },
      "source": [
        "## পলিনোমিয়াল দিয়ে দেখি\n",
        "\n",
        "তিন ডিগ্রী পলিনোমিয়াল একটা কিউবিক কার্ভ দিয়ে ডেটাকে মেলাতে হলে a, b, c এবং d ৪টা প্যারামিটার হতে পারে।\n",
        "\n",
        "$y = a + bx + cx^2 + dx^3$\n",
        "\n",
        "৩ ডিগ্রী দিয়ে নতুন ফিচার"
      ]
    },
    {
      "cell_type": "code",
      "metadata": {
        "colab_type": "code",
        "id": "oQcrlVfEM5iY",
        "outputId": "38ca64b7-4cc0-43c5-c310-1368a885caac",
        "colab": {
          "base_uri": "https://localhost:8080/",
          "height": 151
        }
      },
      "source": [
        "from sklearn.preprocessing import PolynomialFeatures\n",
        "\n",
        "poly = PolynomialFeatures(degree=3, include_bias=False)\n",
        "X2 = poly.fit_transform(X)\n",
        "\n",
        "X2"
      ],
      "execution_count": 8,
      "outputs": [
        {
          "output_type": "execute_result",
          "data": {
            "text/plain": [
              "array([[  1.,   1.,   1.],\n",
              "       [  2.,   4.,   8.],\n",
              "       [  3.,   9.,  27.],\n",
              "       [  4.,  16.,  64.],\n",
              "       [  5.,  25., 125.],\n",
              "       [  6.,  36., 216.],\n",
              "       [  7.,  49., 343.],\n",
              "       [  8.,  64., 512.]])"
            ]
          },
          "metadata": {
            "tags": []
          },
          "execution_count": 8
        }
      ]
    },
    {
      "cell_type": "code",
      "metadata": {
        "colab_type": "code",
        "id": "QcYr7sm1Rexb",
        "outputId": "38c05e22-82dd-4350-ad4d-66eec24325be",
        "colab": {
          "base_uri": "https://localhost:8080/",
          "height": 34
        }
      },
      "source": [
        "X2.shape"
      ],
      "execution_count": 9,
      "outputs": [
        {
          "output_type": "execute_result",
          "data": {
            "text/plain": [
              "(8, 3)"
            ]
          },
          "metadata": {
            "tags": []
          },
          "execution_count": 9
        }
      ]
    },
    {
      "cell_type": "markdown",
      "metadata": {
        "colab_type": "text",
        "id": "SWEq2uwpISPQ"
      },
      "source": [
        "$y = a + bx + cx^2 + dx^3$\n",
        "\n",
        "৩ ডিগ্রী দিয়ে নতুন ফিচার দেখি get_feature_names() দিয়ে।"
      ]
    },
    {
      "cell_type": "code",
      "metadata": {
        "colab_type": "code",
        "id": "xgCiOqzHR-N-",
        "outputId": "41eda8d6-8152-4a5d-dba2-d7fb74667f16",
        "colab": {
          "base_uri": "https://localhost:8080/",
          "height": 34
        }
      },
      "source": [
        "poly.get_feature_names()"
      ],
      "execution_count": 10,
      "outputs": [
        {
          "output_type": "execute_result",
          "data": {
            "text/plain": [
              "['x0', 'x0^2', 'x0^3']"
            ]
          },
          "metadata": {
            "tags": []
          },
          "execution_count": 10
        }
      ]
    },
    {
      "cell_type": "code",
      "metadata": {
        "colab_type": "code",
        "id": "lPT2VCI2NMlU",
        "outputId": "583908ef-74f4-4582-a7a0-9f4fc896af99",
        "colab": {
          "base_uri": "https://localhost:8080/",
          "height": 265
        }
      },
      "source": [
        "model = LinearRegression().fit(X2, y)\n",
        "yfit = model.predict(X2)\n",
        "\n",
        "plt.scatter(x, y)\n",
        "plt.plot(x, yfit);"
      ],
      "execution_count": 11,
      "outputs": [
        {
          "output_type": "display_data",
          "data": {
            "image/png": "[encoded data removed]",
            "text/plain": [
              "<Figure size 432x288 with 1 Axes>"
            ]
          },
          "metadata": {
            "tags": [],
            "needs_background": "light"
          }
        }
      ]
    },
    {
      "cell_type": "markdown",
      "metadata": {
        "colab_type": "text",
        "id": "4bF4s2PVD6B9"
      },
      "source": [
        "## নামপাই দিয়ে"
      ]
    },
    {
      "cell_type": "code",
      "metadata": {
        "colab_type": "code",
        "id": "xR0sbIm5Mpu-",
        "outputId": "b32223e3-8bb7-46e7-dbc6-6ba61d251f07",
        "colab": {
          "base_uri": "https://localhost:8080/",
          "height": 0
        }
      },
      "source": [
        "coefs = np.polyfit(x, y, 3)\n",
        "obj = np.poly1d(coefs) #কোএফিসিয়েন্ট দেখতে চাইলে দেখতে পারেন\n",
        "x_line = np.linspace(min(x), max(x), 10) # x এর নতুন ভ্যালু\n",
        "y_line = obj(x_line)\n",
        "\n",
        "plt.plot(x, y, 'o')  \n",
        "plt.plot(x_line, y_line, 'r')"
      ],
      "execution_count": 12,
      "outputs": [
        {
          "output_type": "execute_result",
          "data": {
            "text/plain": [
              "[<matplotlib.lines.Line2D at 0x7ff488972780>]"
            ]
          },
          "metadata": {
            "tags": []
          },
          "execution_count": 12
        },
        {
          "output_type": "display_data",
          "data": {
            "image/png": "[encoded data removed]",
            "text/plain": [
              "<Figure size 432x288 with 1 Axes>"
            ]
          },
          "metadata": {
            "tags": [],
            "needs_background": "light"
          }
        }
      ]
    },
    {
      "cell_type": "code",
      "metadata": {
        "colab_type": "code",
        "id": "ahU7rm0CMv0E",
        "outputId": "e4148794-abdc-4c17-d25e-831ac23bc5d2",
        "colab": {
          "base_uri": "https://localhost:8080/",
          "height": 0
        }
      },
      "source": [
        "coefs"
      ],
      "execution_count": 13,
      "outputs": [
        {
          "output_type": "execute_result",
          "data": {
            "text/plain": [
              "array([-0.16161616,  2.13419913, -7.13275613,  8.35714286])"
            ]
          },
          "metadata": {
            "tags": []
          },
          "execution_count": 13
        }
      ]
    },
    {
      "cell_type": "markdown",
      "metadata": {
        "colab_type": "text",
        "id": "PzRnstR_VLcE"
      },
      "source": [
        "## আরেকটা উদাহরণ, ডেটা জেনারেট করি ফর্মুলা দিয়ে\n",
        "\n",
        "আমাদের ফর্মুলাতে একটা বর্গ থাকতে হবে, দুই ডিগ্রীর জন্য। আগের $y$কে ব্যবহার করবো সামনে, তাই এখানে $y1$\n",
        "\n",
        "$y1 = 0.5X^2 + X + 5 +$নয়েজ\n",
        "\n",
        "y1 = 0.5 * X**2 + X + 5 + np.random.randn(N, 1)"
      ]
    },
    {
      "cell_type": "code",
      "metadata": {
        "colab_type": "code",
        "id": "eILnir5FVcy-",
        "colab": {}
      },
      "source": [
        "# রেকর্ডের সংখ্যা ১০০ \n",
        "N = 100\n",
        "\n",
        "# আমরা কিছু ইন্ডিপেন্ডেন্ট ভ্যালু মানে X এর মান জেনারেট করি\n",
        "X = 10 * np.random.rand(N, 1) - 5\n",
        "y1 = 0.5 * X**2 + X + 5 + np.random.randn(N, 1)"
      ],
      "execution_count": 0,
      "outputs": []
    },
    {
      "cell_type": "markdown",
      "metadata": {
        "colab_type": "text",
        "id": "ANLYcl6aYm6-"
      },
      "source": [
        "আমরা এখানে y এর জন্য $X^2$ এর কোএফিসিয়েন্ট ০.৫ এবং $X$ এর কোএফিসিয়েন্ট ১। এর সাথে ইন্টারসেপ্ট ৫ + পাশাপাশি কিছু নয়েজ যোগ করা হয়েছে ডেটাকে রিয়ালিস্টিক দেখানোর জন্য।\n",
        "\n",
        "আমরা একটা মডেল তৈরি করে এর ভেতরের তিনটা কোএফিসিয়েন্ট বের করতে পারি কি না?"
      ]
    },
    {
      "cell_type": "code",
      "metadata": {
        "colab_type": "code",
        "id": "1ZT84OAphq7m",
        "outputId": "802af2e4-49f6-4e45-9158-3cbbaebc7c51",
        "colab": {
          "base_uri": "https://localhost:8080/",
          "height": 265
        }
      },
      "source": [
        "plt.scatter(X, y1)\n",
        "plt.show()   "
      ],
      "execution_count": 15,
      "outputs": [
        {
          "output_type": "display_data",
          "data": {
            "image/png": "[encoded data removed]",
            "text/plain": [
              "<Figure size 432x288 with 1 Axes>"
            ]
          },
          "metadata": {
            "tags": [],
            "needs_background": "light"
          }
        }
      ]
    },
    {
      "cell_type": "markdown",
      "metadata": {
        "id": "pA7-ou52HjdY",
        "colab_type": "text"
      },
      "source": [
        "ফিচারের শেপ দেখি, একটা"
      ]
    },
    {
      "cell_type": "code",
      "metadata": {
        "id": "t9_wnIjKHp3A",
        "colab_type": "code",
        "outputId": "021f7484-cad7-44b8-f4a9-0645efe853ca",
        "colab": {
          "base_uri": "https://localhost:8080/",
          "height": 34
        }
      },
      "source": [
        "X.shape"
      ],
      "execution_count": 16,
      "outputs": [
        {
          "output_type": "execute_result",
          "data": {
            "text/plain": [
              "(100, 1)"
            ]
          },
          "metadata": {
            "tags": []
          },
          "execution_count": 16
        }
      ]
    },
    {
      "cell_type": "markdown",
      "metadata": {
        "id": "Rv2EqRNkKBR1",
        "colab_type": "text"
      },
      "source": [
        "দুই ডিগ্রী মানে $X$ এবং $X^2$, দুটো ফিচার, $X^2$ হচ্ছে আমাদের ডিরাইভড ফিচার।"
      ]
    },
    {
      "cell_type": "code",
      "metadata": {
        "colab_type": "code",
        "id": "AlI7bGYorSCC",
        "outputId": "9928cf47-426e-4d5e-904c-d5e50df9def6",
        "colab": {
          "base_uri": "https://localhost:8080/",
          "height": 34
        }
      },
      "source": [
        "from sklearn.preprocessing import PolynomialFeatures\n",
        "poly_features = PolynomialFeatures(degree=2, include_bias=False)\n",
        "x_poly = poly_features.fit_transform(X)\n",
        "\n",
        "poly_features.get_feature_names()"
      ],
      "execution_count": 17,
      "outputs": [
        {
          "output_type": "execute_result",
          "data": {
            "text/plain": [
              "['x0', 'x0^2']"
            ]
          },
          "metadata": {
            "tags": []
          },
          "execution_count": 17
        }
      ]
    },
    {
      "cell_type": "markdown",
      "metadata": {
        "id": "BibsDJ3lKxf2",
        "colab_type": "text"
      },
      "source": [
        "নতুন শেপ দেখুন।"
      ]
    },
    {
      "cell_type": "code",
      "metadata": {
        "id": "leOOM5oeJmZE",
        "colab_type": "code",
        "outputId": "564a1494-185c-4537-fdf3-f806aad79bf5",
        "colab": {
          "base_uri": "https://localhost:8080/",
          "height": 34
        }
      },
      "source": [
        "x_poly.shape"
      ],
      "execution_count": 18,
      "outputs": [
        {
          "output_type": "execute_result",
          "data": {
            "text/plain": [
              "(100, 2)"
            ]
          },
          "metadata": {
            "tags": []
          },
          "execution_count": 18
        }
      ]
    },
    {
      "cell_type": "markdown",
      "metadata": {
        "id": "KD2zFNzsK5Bz",
        "colab_type": "text"
      },
      "source": [
        "প্রথম ৫টা ফিচারের কলাম দেখি।"
      ]
    },
    {
      "cell_type": "code",
      "metadata": {
        "id": "s1GUOqqoInVG",
        "colab_type": "code",
        "outputId": "493f6a24-bcec-4097-a4c5-2025f65f6e95",
        "colab": {
          "base_uri": "https://localhost:8080/",
          "height": 101
        }
      },
      "source": [
        "x_poly[:5]"
      ],
      "execution_count": 19,
      "outputs": [
        {
          "output_type": "execute_result",
          "data": {
            "text/plain": [
              "array([[-4.99731437, 24.97315088],\n",
              "       [ 1.00704979,  1.01414929],\n",
              "       [-1.21747817,  1.48225309],\n",
              "       [ 0.55454069,  0.30751538],\n",
              "       [-1.5889156 ,  2.52465279]])"
            ]
          },
          "metadata": {
            "tags": []
          },
          "execution_count": 19
        }
      ]
    },
    {
      "cell_type": "markdown",
      "metadata": {
        "id": "beYMSzP1LCin",
        "colab_type": "text"
      },
      "source": [
        "একটা থেকে আরেকটা বর্গ হয় কিনা?"
      ]
    },
    {
      "cell_type": "code",
      "metadata": {
        "id": "-dTFag7aIxw0",
        "colab_type": "code",
        "outputId": "cce37de6-4c6e-47c5-f56e-61a75f2405b9",
        "colab": {
          "base_uri": "https://localhost:8080/",
          "height": 34
        }
      },
      "source": [
        "2.32672013**2"
      ],
      "execution_count": 20,
      "outputs": [
        {
          "output_type": "execute_result",
          "data": {
            "text/plain": [
              "5.413626563347217"
            ]
          },
          "metadata": {
            "tags": []
          },
          "execution_count": 20
        }
      ]
    },
    {
      "cell_type": "code",
      "metadata": {
        "colab_type": "code",
        "id": "OrSAGQb9rYi-",
        "outputId": "e870b225-542d-40dd-d266-aa7984e44819",
        "colab": {
          "base_uri": "https://localhost:8080/",
          "height": 34
        }
      },
      "source": [
        "from sklearn.linear_model import LinearRegression\n",
        "lr = LinearRegression()\n",
        "lr.fit(x_poly, y1)\n",
        "\n",
        "lr.intercept_, lr.coef_"
      ],
      "execution_count": 21,
      "outputs": [
        {
          "output_type": "execute_result",
          "data": {
            "text/plain": [
              "(array([5.046854]), array([[1.02201041, 0.50075506]]))"
            ]
          },
          "metadata": {
            "tags": []
          },
          "execution_count": 21
        }
      ]
    },
    {
      "cell_type": "code",
      "metadata": {
        "id": "QaH5XYiZd_Li",
        "colab_type": "code",
        "outputId": "e8cbf918-b1cb-49a7-e31e-139da2e13b68",
        "colab": {
          "base_uri": "https://localhost:8080/",
          "height": 265
        }
      },
      "source": [
        "yfit = lr.predict(x_poly)\n",
        "\n",
        "plt.scatter(X, y1)\n",
        "plt.plot(X, yfit);"
      ],
      "execution_count": 22,
      "outputs": [
        {
          "output_type": "display_data",
          "data": {
            "image/png": "[encoded data removed]",
            "text/plain": [
              "<Figure size 432x288 with 1 Axes>"
            ]
          },
          "metadata": {
            "tags": [],
            "needs_background": "light"
          }
        }
      ]
    },
    {
      "cell_type": "code",
      "metadata": {
        "colab_type": "code",
        "id": "aH_n0tE9rcSH",
        "colab": {}
      },
      "source": [
        "X_new = np.array([[0], [2], [5]])\n",
        "X_poly_new = poly_features.fit_transform(X_new)\n",
        "y_predict = lr.predict(X_poly_new)"
      ],
      "execution_count": 0,
      "outputs": []
    },
    {
      "cell_type": "code",
      "metadata": {
        "colab_type": "code",
        "id": "FEGuvO2StD0E",
        "outputId": "668fe933-6742-4fd4-ecde-e51499fc1101",
        "colab": {
          "base_uri": "https://localhost:8080/",
          "height": 67
        }
      },
      "source": [
        "y_predict"
      ],
      "execution_count": 24,
      "outputs": [
        {
          "output_type": "execute_result",
          "data": {
            "text/plain": [
              "array([[ 5.046854  ],\n",
              "       [ 9.09389504],\n",
              "       [22.67578247]])"
            ]
          },
          "metadata": {
            "tags": []
          },
          "execution_count": 24
        }
      ]
    },
    {
      "cell_type": "code",
      "metadata": {
        "colab_type": "code",
        "id": "jex6itEvuMiv",
        "outputId": "fa056b95-ba56-45fa-842f-38573d7ee4b3",
        "colab": {
          "base_uri": "https://localhost:8080/",
          "height": 34
        }
      },
      "source": [
        "y_original = 0.5 * 0 + 0 + 5  # আমরা প্রেডিক্ট করেছিলাম 5.00....\n",
        "y_original"
      ],
      "execution_count": 25,
      "outputs": [
        {
          "output_type": "execute_result",
          "data": {
            "text/plain": [
              "5.0"
            ]
          },
          "metadata": {
            "tags": []
          },
          "execution_count": 25
        }
      ]
    },
    {
      "cell_type": "code",
      "metadata": {
        "colab_type": "code",
        "id": "7_lkytAguO8p",
        "outputId": "d30c4a2f-9db7-48fd-c94e-180c012575d5",
        "colab": {
          "base_uri": "https://localhost:8080/",
          "height": 34
        }
      },
      "source": [
        "y_original = 0.5 * (2**2) + 2 + 5 #আমরা প্রেডিক্ট করেছিলাম 8.97....\n",
        "y_original"
      ],
      "execution_count": 26,
      "outputs": [
        {
          "output_type": "execute_result",
          "data": {
            "text/plain": [
              "9.0"
            ]
          },
          "metadata": {
            "tags": []
          },
          "execution_count": 26
        }
      ]
    },
    {
      "cell_type": "code",
      "metadata": {
        "colab_type": "code",
        "id": "QAml_7z_uSYN",
        "outputId": "af86c452-cfd1-4342-f86f-2cc8ac6db064",
        "colab": {
          "base_uri": "https://localhost:8080/",
          "height": 34
        }
      },
      "source": [
        "y_original = 0.5 * (5**2) + 5 + 5 #আমরা প্রেডিক্ট করেছিলাম 22.24...\n",
        "y_original   "
      ],
      "execution_count": 27,
      "outputs": [
        {
          "output_type": "execute_result",
          "data": {
            "text/plain": [
              "22.5"
            ]
          },
          "metadata": {
            "tags": []
          },
          "execution_count": 27
        }
      ]
    },
    {
      "cell_type": "markdown",
      "metadata": {
        "colab_type": "text",
        "id": "xdU4T3IqVNQl"
      },
      "source": [
        "## আমরা একটা পাইপলাইনের উদাহরণ দেখি"
      ]
    },
    {
      "cell_type": "code",
      "metadata": {
        "colab_type": "code",
        "id": "itivQxorOLlN",
        "colab": {}
      },
      "source": [
        "X = np.array([[  1.,   1.,   1.],\n",
        "              [  2.,   4.,   8.],\n",
        "              [  3.,   9.,  27.],\n",
        "              [  4.,  nan,  64.],\n",
        "              [  5.,  25., 125.],\n",
        "              [  6.,  36., 216.],\n",
        "              [  7.,  49., nan, ],\n",
        "              [  8.,  64., 512.]])"
      ],
      "execution_count": 0,
      "outputs": []
    },
    {
      "cell_type": "code",
      "metadata": {
        "colab_type": "code",
        "id": "8GyvvbXOjfpr",
        "outputId": "dccfb8f5-4e32-475e-9c19-c16f89287678",
        "colab": {
          "base_uri": "https://localhost:8080/",
          "height": 151
        }
      },
      "source": [
        "from sklearn.impute import SimpleImputer\n",
        "imputer = SimpleImputer(strategy='mean')\n",
        "\n",
        "X2 = imputer.fit_transform(X)\n",
        "X2"
      ],
      "execution_count": 29,
      "outputs": [
        {
          "output_type": "execute_result",
          "data": {
            "text/plain": [
              "array([[  1.        ,   1.        ,   1.        ],\n",
              "       [  2.        ,   4.        ,   8.        ],\n",
              "       [  3.        ,   9.        ,  27.        ],\n",
              "       [  4.        ,  26.85714286,  64.        ],\n",
              "       [  5.        ,  25.        , 125.        ],\n",
              "       [  6.        ,  36.        , 216.        ],\n",
              "       [  7.        ,  49.        , 136.14285714],\n",
              "       [  8.        ,  64.        , 512.        ]])"
            ]
          },
          "metadata": {
            "tags": []
          },
          "execution_count": 29
        }
      ]
    },
    {
      "cell_type": "code",
      "metadata": {
        "colab_type": "code",
        "id": "vwrZUijf5_uZ",
        "outputId": "cd2a67b6-4243-4d61-db3f-081974528a21",
        "colab": {
          "base_uri": "https://localhost:8080/",
          "height": 151
        }
      },
      "source": [
        "from sklearn.preprocessing import MinMaxScaler\n",
        "scaler = MinMaxScaler()\n",
        "\n",
        "X_scaled = scaler.fit_transform(X2)\n",
        "\n",
        "X_scaled"
      ],
      "execution_count": 30,
      "outputs": [
        {
          "output_type": "execute_result",
          "data": {
            "text/plain": [
              "array([[0.        , 0.        , 0.        ],\n",
              "       [0.14285714, 0.04761905, 0.01369863],\n",
              "       [0.28571429, 0.12698413, 0.05088063],\n",
              "       [0.42857143, 0.41043084, 0.12328767],\n",
              "       [0.57142857, 0.38095238, 0.24266145],\n",
              "       [0.71428571, 0.55555556, 0.42074364],\n",
              "       [0.85714286, 0.76190476, 0.26446743],\n",
              "       [1.        , 1.        , 1.        ]])"
            ]
          },
          "metadata": {
            "tags": []
          },
          "execution_count": 30
        }
      ]
    },
    {
      "cell_type": "code",
      "metadata": {
        "colab_type": "code",
        "id": "naqOQ8vrBE1z",
        "outputId": "21ae6707-780f-4b0f-8bc0-4403bfac549e",
        "colab": {
          "base_uri": "https://localhost:8080/",
          "height": 50
        }
      },
      "source": [
        "from sklearn.linear_model import Ridge\n",
        "\n",
        "linridge = Ridge(alpha=20.0).fit(X_scaled, y)\n",
        "\n",
        "linridge"
      ],
      "execution_count": 31,
      "outputs": [
        {
          "output_type": "execute_result",
          "data": {
            "text/plain": [
              "Ridge(alpha=20.0, copy_X=True, fit_intercept=True, max_iter=None,\n",
              "      normalize=False, random_state=None, solver='auto', tol=0.001)"
            ]
          },
          "metadata": {
            "tags": []
          },
          "execution_count": 31
        }
      ]
    },
    {
      "cell_type": "code",
      "metadata": {
        "colab_type": "code",
        "id": "2qCC5WAeBi9o",
        "outputId": "84f2ec24-88a7-4281-f842-32f0f3e63f5a",
        "colab": {
          "base_uri": "https://localhost:8080/",
          "height": 151
        }
      },
      "source": [
        "X_scaled"
      ],
      "execution_count": 32,
      "outputs": [
        {
          "output_type": "execute_result",
          "data": {
            "text/plain": [
              "array([[0.        , 0.        , 0.        ],\n",
              "       [0.14285714, 0.04761905, 0.01369863],\n",
              "       [0.28571429, 0.12698413, 0.05088063],\n",
              "       [0.42857143, 0.41043084, 0.12328767],\n",
              "       [0.57142857, 0.38095238, 0.24266145],\n",
              "       [0.71428571, 0.55555556, 0.42074364],\n",
              "       [0.85714286, 0.76190476, 0.26446743],\n",
              "       [1.        , 1.        , 1.        ]])"
            ]
          },
          "metadata": {
            "tags": []
          },
          "execution_count": 32
        }
      ]
    },
    {
      "cell_type": "code",
      "metadata": {
        "colab_type": "code",
        "id": "rtpQVgorkVOC",
        "outputId": "64ae56bb-5779-4739-b6a9-97c580879087",
        "colab": {
          "base_uri": "https://localhost:8080/",
          "height": 50
        }
      },
      "source": [
        "from sklearn.linear_model import LinearRegression\n",
        "\n",
        "model = LinearRegression().fit(X2, y)\n",
        "model.predict(X2)"
      ],
      "execution_count": 33,
      "outputs": [
        {
          "output_type": "execute_result",
          "data": {
            "text/plain": [
              "array([1.37756364, 2.40616197, 3.39670132, 4.7353445 , 5.02305926,\n",
              "       5.53860593, 7.84880847, 5.67375491])"
            ]
          },
          "metadata": {
            "tags": []
          },
          "execution_count": 33
        }
      ]
    },
    {
      "cell_type": "code",
      "metadata": {
        "colab_type": "code",
        "id": "B4XQKBQXSLZz",
        "colab": {}
      },
      "source": [
        "from sklearn.pipeline import Pipeline\n",
        "\n",
        "pipe = Pipeline([('imputer', SimpleImputer(strategy='mean')),\n",
        "                ('minmax', MinMaxScaler()),\n",
        "                ('poly',  PolynomialFeatures(degree=2, include_bias=False)),\n",
        "                ('lr', LinearRegression())])"
      ],
      "execution_count": 0,
      "outputs": []
    },
    {
      "cell_type": "code",
      "metadata": {
        "colab_type": "code",
        "id": "t3SHM5bwXdLW",
        "outputId": "67f44813-0469-44e6-f75a-966ba4e5afdf",
        "colab": {
          "base_uri": "https://localhost:8080/",
          "height": 235
        }
      },
      "source": [
        "pipe.fit(X, y)  # এই X এর মধ্যে ভাল্যু মিসিং আছে "
      ],
      "execution_count": 35,
      "outputs": [
        {
          "output_type": "execute_result",
          "data": {
            "text/plain": [
              "Pipeline(memory=None,\n",
              "         steps=[('imputer',\n",
              "                 SimpleImputer(add_indicator=False, copy=True, fill_value=None,\n",
              "                               missing_values=nan, strategy='mean',\n",
              "                               verbose=0)),\n",
              "                ('minmax', MinMaxScaler(copy=True, feature_range=(0, 1))),\n",
              "                ('poly',\n",
              "                 PolynomialFeatures(degree=2, include_bias=False,\n",
              "                                    interaction_only=False, order='C')),\n",
              "                ('lr',\n",
              "                 LinearRegression(copy_X=True, fit_intercept=True, n_jobs=None,\n",
              "                                  normalize=False))],\n",
              "         verbose=False)"
            ]
          },
          "metadata": {
            "tags": []
          },
          "execution_count": 35
        }
      ]
    },
    {
      "cell_type": "code",
      "metadata": {
        "colab_type": "code",
        "id": "2KDbOB_eaFL1",
        "outputId": "f21c8f95-6dfb-46dc-fd95-5ad87b4a213e",
        "colab": {
          "base_uri": "https://localhost:8080/",
          "height": 50
        }
      },
      "source": [
        "print(y)\n",
        "print(pipe.predict(X))"
      ],
      "execution_count": 36,
      "outputs": [
        {
          "output_type": "stream",
          "text": [
            "[3 2 1 4 6 7 8 5]\n",
            "[3. 2. 1. 4. 6. 7. 8. 5.]\n"
          ],
          "name": "stdout"
        }
      ]
    },
    {
      "cell_type": "code",
      "metadata": {
        "colab_type": "code",
        "id": "ctjUthzkaBXp",
        "outputId": "b5536913-8b29-4eb5-897c-7764e2158e08",
        "colab": {
          "base_uri": "https://localhost:8080/",
          "height": 34
        }
      },
      "source": [
        "score = pipe.score(X, y)\n",
        "print('Linear Regression pipeline test accuracy: %.2f' % score)"
      ],
      "execution_count": 37,
      "outputs": [
        {
          "output_type": "stream",
          "text": [
            "Linear Regression pipeline test accuracy: 1.00\n"
          ],
          "name": "stdout"
        }
      ]
    }
  ]
}