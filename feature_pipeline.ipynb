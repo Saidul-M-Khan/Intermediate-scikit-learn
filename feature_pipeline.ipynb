{
  "nbformat": 4,
  "nbformat_minor": 0,
  "metadata": {
    "colab": {
      "name": "feature_pipeline_updated.ipynb",
      "provenance": [],
      "include_colab_link": true
    },
    "kernelspec": {
      "display_name": "Python 3",
      "language": "python",
      "name": "python3"
    },
    "language_info": {
      "codemirror_mode": {
        "name": "ipython",
        "version": 3
      },
      "file_extension": ".py",
      "mimetype": "text/x-python",
      "name": "python",
      "nbconvert_exporter": "python",
      "pygments_lexer": "ipython3",
      "version": "3.7.6"
    }
  },
  "cells": [
    {
      "cell_type": "markdown",
      "metadata": {
        "id": "view-in-github",
        "colab_type": "text"
      },
      "source": [
        "<a href=\"https://colab.research.google.com/github/raqueeb/Intermediate-scikit-learn/blob/master/feature_pipeline.ipynb\" target=\"_parent\"><img src=\"https://colab.research.google.com/assets/colab-badge.svg\" alt=\"Open In Colab\"/></a>"
      ]
    },
    {
      "cell_type": "markdown",
      "metadata": {
        "colab_type": "text",
        "id": "80f60IZJYRKc"
      },
      "source": [
        "## ফিচার ইঞ্জিনিয়ারিং এবং পাইপলাইন"
      ]
    },
    {
      "cell_type": "markdown",
      "metadata": {
        "colab_type": "text",
        "id": "WjwqJ9ZWy8D1"
      },
      "source": [
        "আমাদের আগের বইটাতে লিনিয়ার রিগ্রেশন নিয়ে বেশি ফোকাস করেছিলাম। কারণ পৃথিবীর অনেক কিছুর সম্পর্ক লিনিয়ার। বাসার ঘরের সাথে ভাড়ার সম্পর্ক, পজিশনের সাথে স্যালারির সম্পর্ক। \n",
        "\n",
        "যদি ডেটা লিনিয়ার না হয়? তখন কিভাবে ডেটা ফিট করবো? সেটা নিয়ে আজকের গল্প। নতুন বইতে একটু নতুন গল্প। \n",
        "\n",
        "পলিনোমিয়াল রিগ্রেশন।\n",
        "\n",
        "দেখুন এখানে, https://github.com/raqueeb/Intermediate-scikit-learn/blob/master/feature_pipeline.ipynb"
      ]
    },
    {
      "cell_type": "code",
      "metadata": {
        "colab_type": "code",
        "id": "m0Z6XpZEjFg8",
        "outputId": "5c46b465-105d-4438-89fe-7fe2665c384e",
        "colab": {
          "base_uri": "https://localhost:8080/",
          "height": 265
        }
      },
      "source": [
        "import numpy as np\n",
        "from numpy import nan\n",
        "\n",
        "%matplotlib inline\n",
        "import numpy as np\n",
        "import matplotlib.pyplot as plt\n",
        "\n",
        "x = np.array([1, 2, 3, 4, 5, 6, 7, 8]) # বড় X নয় কিন্তু\n",
        "y = np.array([3, 2, 1, 4, 6, 7, 8, 5])\n",
        "\n",
        "plt.scatter(x, y);"
      ],
      "execution_count": 37,
      "outputs": [
        {
          "output_type": "display_data",
          "data": {
            "image/png": "[encoded data removed]",
            "text/plain": [
              "<Figure size 432x288 with 1 Axes>"
            ]
          },
          "metadata": {
            "tags": [],
            "needs_background": "light"
          }
        }
      ]
    },
    {
      "cell_type": "markdown",
      "metadata": {
        "colab_type": "text",
        "id": "-5J6TtGcmJ8G"
      },
      "source": [
        "মনে আছে সাইকিট-লার্নের ডেটা রিপ্রেজেন্টেশনের ছবিটার কথা? \n",
        "\n",
        "আমাদের ফিচার ম্যাট্রিক্স X এর জন্য দরকার ২ ডাইমেনশন, এবং টার্গেট অ্যারের জন্য এক ডাইমেনশন। দেখুন, আমাদের টার্গেট অ্যারে এক ডাইমেনশনেই আছে। দরকার Xকে একটা আসল ফর্মে নিয়ে আসতে মানে [n_samples, n_features] এ নিয়ে আসতে। আমাদের ফিচার সংখ্যা ১ হলেও সেটা প্রয়োজনীয় ফর্মে ফেলতে হবে।  \n",
        "\n",
        " একটা অ্যারেকে নতুন এক্সিস মানে ডাইমেনশনে ফেলি।"
      ]
    },
    {
      "cell_type": "markdown",
      "metadata": {
        "id": "rZFJEME429QI",
        "colab_type": "text"
      },
      "source": [
        "এখন কিভাবে আছে?"
      ]
    },
    {
      "cell_type": "code",
      "metadata": {
        "id": "tzbcXIep28Os",
        "colab_type": "code",
        "colab": {
          "base_uri": "https://localhost:8080/",
          "height": 34
        },
        "outputId": "7b60a942-2f63-403f-8ca3-2d826edca152"
      },
      "source": [
        "x.shape"
      ],
      "execution_count": 38,
      "outputs": [
        {
          "output_type": "execute_result",
          "data": {
            "text/plain": [
              "(8,)"
            ]
          },
          "metadata": {
            "tags": []
          },
          "execution_count": 38
        }
      ]
    },
    {
      "cell_type": "markdown",
      "metadata": {
        "id": "aF3ndX-i3Fp_",
        "colab_type": "text"
      },
      "source": [
        "হতে হবে [n_samples, n_features] মানে (8, 1) যেহেতু একটা ফিচার।"
      ]
    },
    {
      "cell_type": "code",
      "metadata": {
        "colab_type": "code",
        "id": "1HSf3haFUTYX",
        "colab": {}
      },
      "source": [
        "X = x[:, np.newaxis]"
      ],
      "execution_count": 0,
      "outputs": []
    },
    {
      "cell_type": "code",
      "metadata": {
        "colab_type": "code",
        "id": "JfLFBJ1IUUc6",
        "outputId": "0aa0f73c-7236-45c8-dd99-08193c730641",
        "colab": {
          "base_uri": "https://localhost:8080/",
          "height": 151
        }
      },
      "source": [
        "X"
      ],
      "execution_count": 40,
      "outputs": [
        {
          "output_type": "execute_result",
          "data": {
            "text/plain": [
              "array([[1],\n",
              "       [2],\n",
              "       [3],\n",
              "       [4],\n",
              "       [5],\n",
              "       [6],\n",
              "       [7],\n",
              "       [8]])"
            ]
          },
          "metadata": {
            "tags": []
          },
          "execution_count": 40
        }
      ]
    },
    {
      "cell_type": "markdown",
      "metadata": {
        "colab_type": "text",
        "id": "Wd8Vd7quEG6k"
      },
      "source": [
        "## লিনিয়ার রিগ্রেশন দিয়ে ডেটাকে ফিট করছি\n",
        "\n",
        "এটা ভালো হয়নি, প্রচুর এরর"
      ]
    },
    {
      "cell_type": "code",
      "metadata": {
        "colab_type": "code",
        "id": "JVvExYKTMzkm",
        "outputId": "06b43469-3fcb-4b37-ed94-ce0e605ac3f1",
        "colab": {
          "base_uri": "https://localhost:8080/",
          "height": 265
        }
      },
      "source": [
        "from sklearn.linear_model import LinearRegression\n",
        "\n",
        "model = LinearRegression().fit(X, y)\n",
        "yfit = model.predict(X)\n",
        "\n",
        "plt.scatter(x, y)\n",
        "plt.plot(x, yfit);"
      ],
      "execution_count": 41,
      "outputs": [
        {
          "output_type": "display_data",
          "data": {
            "image/png": "[encoded data removed]",
            "text/plain": [
              "<Figure size 432x288 with 1 Axes>"
            ]
          },
          "metadata": {
            "tags": [],
            "needs_background": "light"
          }
        }
      ]
    },
    {
      "cell_type": "code",
      "metadata": {
        "colab_type": "code",
        "id": "Ch6emYK8Mggb",
        "outputId": "088ce8e8-462a-4828-a56c-e9cd6cc6f4f7",
        "colab": {
          "base_uri": "https://localhost:8080/",
          "height": 34
        }
      },
      "source": [
        "model.coef_"
      ],
      "execution_count": 42,
      "outputs": [
        {
          "output_type": "execute_result",
          "data": {
            "text/plain": [
              "array([0.76190476])"
            ]
          },
          "metadata": {
            "tags": []
          },
          "execution_count": 42
        }
      ]
    },
    {
      "cell_type": "markdown",
      "metadata": {
        "colab_type": "text",
        "id": "glXaZou4-dpm"
      },
      "source": [
        "### সরল রেখার ফর্মুলা\n",
        "\n",
        "১ ডিগ্রী পলিনোমিয়াল মানে সরল রেখা, ফলে দরকার দুটো প্যারামিটার\n",
        "\n",
        "$y = mx + b$ এর মতো $y = a + bx$ অথবা $y = ax + b$"
      ]
    },
    {
      "cell_type": "code",
      "metadata": {
        "colab_type": "code",
        "id": "vPCG4BQKQcDr",
        "outputId": "28dc7c61-656c-4917-a50e-5e047d69f6b0",
        "colab": {
          "base_uri": "https://localhost:8080/",
          "height": 34
        }
      },
      "source": [
        "X.shape"
      ],
      "execution_count": 43,
      "outputs": [
        {
          "output_type": "execute_result",
          "data": {
            "text/plain": [
              "(8, 1)"
            ]
          },
          "metadata": {
            "tags": []
          },
          "execution_count": 43
        }
      ]
    },
    {
      "cell_type": "markdown",
      "metadata": {
        "colab_type": "text",
        "id": "qBxvTLtdZY8n"
      },
      "source": [
        "## পলিনোমিয়াল দিয়ে দেখি\n",
        "\n",
        "তিন ডিগ্রী পলিনোমিয়াল একটা কিউবিক কার্ভ দিয়ে ডেটাকে মেলাতে হলে a, b, c এবং d ৪টা প্যারামিটার হতে পারে।\n",
        "\n",
        "$y = a + bx + cx^2 + dx^3$\n",
        "\n",
        "৩ ডিগ্রী দিয়ে নতুন ফিচার"
      ]
    },
    {
      "cell_type": "code",
      "metadata": {
        "colab_type": "code",
        "id": "oQcrlVfEM5iY",
        "outputId": "22565878-0f57-4459-8353-02a4186e2a5b",
        "colab": {
          "base_uri": "https://localhost:8080/",
          "height": 151
        }
      },
      "source": [
        "from sklearn.preprocessing import PolynomialFeatures\n",
        "\n",
        "poly = PolynomialFeatures(degree=3, include_bias=False)\n",
        "X2 = poly.fit_transform(X)\n",
        "\n",
        "X2"
      ],
      "execution_count": 44,
      "outputs": [
        {
          "output_type": "execute_result",
          "data": {
            "text/plain": [
              "array([[  1.,   1.,   1.],\n",
              "       [  2.,   4.,   8.],\n",
              "       [  3.,   9.,  27.],\n",
              "       [  4.,  16.,  64.],\n",
              "       [  5.,  25., 125.],\n",
              "       [  6.,  36., 216.],\n",
              "       [  7.,  49., 343.],\n",
              "       [  8.,  64., 512.]])"
            ]
          },
          "metadata": {
            "tags": []
          },
          "execution_count": 44
        }
      ]
    },
    {
      "cell_type": "code",
      "metadata": {
        "colab_type": "code",
        "id": "QcYr7sm1Rexb",
        "outputId": "1894a2b5-b69c-473d-f635-9f72bfb53cc5",
        "colab": {
          "base_uri": "https://localhost:8080/",
          "height": 34
        }
      },
      "source": [
        "X2.shape"
      ],
      "execution_count": 45,
      "outputs": [
        {
          "output_type": "execute_result",
          "data": {
            "text/plain": [
              "(8, 3)"
            ]
          },
          "metadata": {
            "tags": []
          },
          "execution_count": 45
        }
      ]
    },
    {
      "cell_type": "markdown",
      "metadata": {
        "colab_type": "text",
        "id": "SWEq2uwpISPQ"
      },
      "source": [
        "$y = a + bx + cx^2 + dx^3$\n",
        "\n",
        "৩ ডিগ্রী দিয়ে নতুন ফিচার দেখি get_feature_names() দিয়ে।"
      ]
    },
    {
      "cell_type": "code",
      "metadata": {
        "colab_type": "code",
        "id": "xgCiOqzHR-N-",
        "outputId": "9953b05b-35fb-4dd5-f471-6d1e5432405a",
        "colab": {
          "base_uri": "https://localhost:8080/",
          "height": 34
        }
      },
      "source": [
        "poly.get_feature_names()"
      ],
      "execution_count": 46,
      "outputs": [
        {
          "output_type": "execute_result",
          "data": {
            "text/plain": [
              "['x0', 'x0^2', 'x0^3']"
            ]
          },
          "metadata": {
            "tags": []
          },
          "execution_count": 46
        }
      ]
    },
    {
      "cell_type": "code",
      "metadata": {
        "colab_type": "code",
        "id": "lPT2VCI2NMlU",
        "outputId": "a8dd0b79-0159-4916-dda3-c4648df50e60",
        "colab": {
          "base_uri": "https://localhost:8080/",
          "height": 265
        }
      },
      "source": [
        "model = LinearRegression().fit(X2, y)\n",
        "yfit = model.predict(X2)\n",
        "\n",
        "plt.scatter(x, y)\n",
        "plt.plot(x, yfit);"
      ],
      "execution_count": 47,
      "outputs": [
        {
          "output_type": "display_data",
          "data": {
            "image/png": "[encoded data removed]",
            "text/plain": [
              "<Figure size 432x288 with 1 Axes>"
            ]
          },
          "metadata": {
            "tags": [],
            "needs_background": "light"
          }
        }
      ]
    },
    {
      "cell_type": "markdown",
      "metadata": {
        "colab_type": "text",
        "id": "4bF4s2PVD6B9"
      },
      "source": [
        "## নামপাই দিয়ে"
      ]
    },
    {
      "cell_type": "code",
      "metadata": {
        "colab_type": "code",
        "id": "xR0sbIm5Mpu-",
        "outputId": "066fe67d-f5c3-4a96-96eb-465148dc96c5",
        "colab": {
          "base_uri": "https://localhost:8080/",
          "height": 0
        }
      },
      "source": [
        "coefs = np.polyfit(x, y, 3)\n",
        "obj = np.poly1d(coefs) #কোএফিসিয়েন্ট দেখতে চাইলে দেখতে পারেন\n",
        "x_line = np.linspace(min(x), max(x), 10) # x এর নতুন ভ্যালু\n",
        "y_line = obj(x_line)\n",
        "\n",
        "plt.plot(x, y, 'o')  \n",
        "plt.plot(x_line, y_line, 'r')"
      ],
      "execution_count": 48,
      "outputs": [
        {
          "output_type": "execute_result",
          "data": {
            "text/plain": [
              "[<matplotlib.lines.Line2D at 0x7f8b88f93c50>]"
            ]
          },
          "metadata": {
            "tags": []
          },
          "execution_count": 48
        },
        {
          "output_type": "display_data",
          "data": {
            "image/png": "[encoded data removed]",
            "text/plain": [
              "<Figure size 432x288 with 1 Axes>"
            ]
          },
          "metadata": {
            "tags": [],
            "needs_background": "light"
          }
        }
      ]
    },
    {
      "cell_type": "code",
      "metadata": {
        "colab_type": "code",
        "id": "ahU7rm0CMv0E",
        "outputId": "e719e9a6-5556-4fef-c485-52accf690ab4",
        "colab": {
          "base_uri": "https://localhost:8080/",
          "height": 0
        }
      },
      "source": [
        "coefs"
      ],
      "execution_count": 49,
      "outputs": [
        {
          "output_type": "execute_result",
          "data": {
            "text/plain": [
              "array([-0.16161616,  2.13419913, -7.13275613,  8.35714286])"
            ]
          },
          "metadata": {
            "tags": []
          },
          "execution_count": 49
        }
      ]
    },
    {
      "cell_type": "markdown",
      "metadata": {
        "colab_type": "text",
        "id": "PzRnstR_VLcE"
      },
      "source": [
        "## আরেকটা উদাহরণ, ডেটা জেনারেট করি ফর্মুলা দিয়ে\n",
        "\n",
        "আমাদের ফর্মুলাতে একটা বর্গ থাকতে হবে, দুই ডিগ্রীর জন্য। আগের $y$কে ব্যবহার করবো সামনে, তাই এখানে $y1$\n",
        "\n",
        "$y1 = 0.5X^2 + X + 5 +$নয়েজ\n",
        "\n",
        "y1 = 0.5 * X**2 + X + 5 + np.random.randn(N, 1)"
      ]
    },
    {
      "cell_type": "code",
      "metadata": {
        "colab_type": "code",
        "id": "eILnir5FVcy-",
        "colab": {}
      },
      "source": [
        "# রেকর্ডের সংখ্যা ১০০ \n",
        "N = 100\n",
        "\n",
        "# আমরা কিছু ইন্ডিপেন্ডেন্ট ভ্যালু মানে X এর মান জেনারেট করি\n",
        "X = 10 * np.random.rand(N, 1) - 5\n",
        "y1 = 0.5 * X**2 + X + 5 + np.random.randn(N, 1)"
      ],
      "execution_count": 0,
      "outputs": []
    },
    {
      "cell_type": "markdown",
      "metadata": {
        "colab_type": "text",
        "id": "ANLYcl6aYm6-"
      },
      "source": [
        "আমরা এখানে y এর জন্য $X^2$ এর কোএফিসিয়েন্ট ০.৫ এবং $X$ এর কোএফিসিয়েন্ট ১। এর সাথে ইন্টারসেপ্ট ৫ + পাশাপাশি কিছু নয়েজ যোগ করা হয়েছে ডেটাকে রিয়ালিস্টিক দেখানোর জন্য।\n",
        "\n",
        "আমরা একটা মডেল তৈরি করে এর ভেতরের তিনটা কোএফিসিয়েন্ট বের করতে পারি কি না?"
      ]
    },
    {
      "cell_type": "code",
      "metadata": {
        "colab_type": "code",
        "id": "1ZT84OAphq7m",
        "outputId": "97426fa1-b9ef-4101-a2f7-e84b67b5b27d",
        "colab": {
          "base_uri": "https://localhost:8080/",
          "height": 265
        }
      },
      "source": [
        "plt.scatter(X, y1)\n",
        "plt.show()   "
      ],
      "execution_count": 51,
      "outputs": [
        {
          "output_type": "display_data",
          "data": {
            "image/png": "[encoded data removed]",
            "text/plain": [
              "<Figure size 432x288 with 1 Axes>"
            ]
          },
          "metadata": {
            "tags": [],
            "needs_background": "light"
          }
        }
      ]
    },
    {
      "cell_type": "markdown",
      "metadata": {
        "id": "pA7-ou52HjdY",
        "colab_type": "text"
      },
      "source": [
        "ফিচারের শেপ দেখি, একটা"
      ]
    },
    {
      "cell_type": "code",
      "metadata": {
        "id": "t9_wnIjKHp3A",
        "colab_type": "code",
        "outputId": "6b9aa318-446c-4c65-cdfa-2e07b31def39",
        "colab": {
          "base_uri": "https://localhost:8080/",
          "height": 34
        }
      },
      "source": [
        "X.shape"
      ],
      "execution_count": 52,
      "outputs": [
        {
          "output_type": "execute_result",
          "data": {
            "text/plain": [
              "(100, 1)"
            ]
          },
          "metadata": {
            "tags": []
          },
          "execution_count": 52
        }
      ]
    },
    {
      "cell_type": "markdown",
      "metadata": {
        "id": "Rv2EqRNkKBR1",
        "colab_type": "text"
      },
      "source": [
        "দুই ডিগ্রী মানে $X$ এবং $X^2$, দুটো ফিচার, $X^2$ হচ্ছে আমাদের ডিরাইভড ফিচার।"
      ]
    },
    {
      "cell_type": "code",
      "metadata": {
        "colab_type": "code",
        "id": "AlI7bGYorSCC",
        "outputId": "24f0dbd8-a26a-4e12-cee3-a4981e648f3f",
        "colab": {
          "base_uri": "https://localhost:8080/",
          "height": 34
        }
      },
      "source": [
        "from sklearn.preprocessing import PolynomialFeatures\n",
        "poly_features = PolynomialFeatures(degree=2, include_bias=False)\n",
        "x_poly = poly_features.fit_transform(X)\n",
        "\n",
        "poly_features.get_feature_names()"
      ],
      "execution_count": 53,
      "outputs": [
        {
          "output_type": "execute_result",
          "data": {
            "text/plain": [
              "['x0', 'x0^2']"
            ]
          },
          "metadata": {
            "tags": []
          },
          "execution_count": 53
        }
      ]
    },
    {
      "cell_type": "markdown",
      "metadata": {
        "id": "BibsDJ3lKxf2",
        "colab_type": "text"
      },
      "source": [
        "নতুন শেপ দেখুন।"
      ]
    },
    {
      "cell_type": "code",
      "metadata": {
        "id": "leOOM5oeJmZE",
        "colab_type": "code",
        "outputId": "e883e44c-803e-4e43-dccb-2f7fca2dfe2e",
        "colab": {
          "base_uri": "https://localhost:8080/",
          "height": 34
        }
      },
      "source": [
        "x_poly.shape"
      ],
      "execution_count": 54,
      "outputs": [
        {
          "output_type": "execute_result",
          "data": {
            "text/plain": [
              "(100, 2)"
            ]
          },
          "metadata": {
            "tags": []
          },
          "execution_count": 54
        }
      ]
    },
    {
      "cell_type": "markdown",
      "metadata": {
        "id": "KD2zFNzsK5Bz",
        "colab_type": "text"
      },
      "source": [
        "প্রথম ৫টা ফিচারের কলাম দেখি।"
      ]
    },
    {
      "cell_type": "code",
      "metadata": {
        "id": "s1GUOqqoInVG",
        "colab_type": "code",
        "outputId": "d8143885-4620-4e6c-8db5-ec7689b0fe6f",
        "colab": {
          "base_uri": "https://localhost:8080/",
          "height": 101
        }
      },
      "source": [
        "x_poly[:5]"
      ],
      "execution_count": 55,
      "outputs": [
        {
          "output_type": "execute_result",
          "data": {
            "text/plain": [
              "array([[ 2.32672013,  5.41362658],\n",
              "       [-2.51314351,  6.31589032],\n",
              "       [ 4.31517137, 18.62070394],\n",
              "       [ 1.13157983,  1.28047292],\n",
              "       [-3.17446547, 10.07723104]])"
            ]
          },
          "metadata": {
            "tags": []
          },
          "execution_count": 55
        }
      ]
    },
    {
      "cell_type": "markdown",
      "metadata": {
        "id": "beYMSzP1LCin",
        "colab_type": "text"
      },
      "source": [
        "একটা থেকে আরেকটা বর্গ হয় কিনা?"
      ]
    },
    {
      "cell_type": "code",
      "metadata": {
        "id": "-dTFag7aIxw0",
        "colab_type": "code",
        "outputId": "ec05d7c9-0ff9-4183-b3dd-54093a7b991f",
        "colab": {
          "base_uri": "https://localhost:8080/",
          "height": 34
        }
      },
      "source": [
        "2.32672013**2"
      ],
      "execution_count": 74,
      "outputs": [
        {
          "output_type": "execute_result",
          "data": {
            "text/plain": [
              "5.413626563347217"
            ]
          },
          "metadata": {
            "tags": []
          },
          "execution_count": 74
        }
      ]
    },
    {
      "cell_type": "code",
      "metadata": {
        "colab_type": "code",
        "id": "OrSAGQb9rYi-",
        "outputId": "c3ff4fb8-7c8a-473b-efc5-cfe3e4aa06ba",
        "colab": {
          "base_uri": "https://localhost:8080/",
          "height": 34
        }
      },
      "source": [
        "from sklearn.linear_model import LinearRegression\n",
        "lr = LinearRegression()\n",
        "lr.fit(x_poly, y1)\n",
        "\n",
        "lr.intercept_, lr.coef_"
      ],
      "execution_count": 57,
      "outputs": [
        {
          "output_type": "execute_result",
          "data": {
            "text/plain": [
              "(array([5.29917115]), array([[1.0099345 , 0.48544938]]))"
            ]
          },
          "metadata": {
            "tags": []
          },
          "execution_count": 57
        }
      ]
    },
    {
      "cell_type": "code",
      "metadata": {
        "id": "QaH5XYiZd_Li",
        "colab_type": "code",
        "outputId": "6aa39ebf-6a0a-4e5d-fa2d-9b6f65332fb1",
        "colab": {
          "base_uri": "https://localhost:8080/",
          "height": 265
        }
      },
      "source": [
        "yfit = lr.predict(x_poly)\n",
        "\n",
        "plt.scatter(X, y1)\n",
        "plt.plot(X, yfit);"
      ],
      "execution_count": 58,
      "outputs": [
        {
          "output_type": "display_data",
          "data": {
            "image/png": "[encoded data removed]",
            "text/plain": [
              "<Figure size 432x288 with 1 Axes>"
            ]
          },
          "metadata": {
            "tags": [],
            "needs_background": "light"
          }
        }
      ]
    },
    {
      "cell_type": "code",
      "metadata": {
        "colab_type": "code",
        "id": "aH_n0tE9rcSH",
        "colab": {}
      },
      "source": [
        "X_new = np.array([[0], [2], [5]])\n",
        "X_poly_new = poly_features.fit_transform(X_new)\n",
        "y_predict = lr.predict(X_poly_new)"
      ],
      "execution_count": 0,
      "outputs": []
    },
    {
      "cell_type": "code",
      "metadata": {
        "colab_type": "code",
        "id": "FEGuvO2StD0E",
        "outputId": "f113dce2-7b6f-4270-c8a7-1fd587081d86",
        "colab": {
          "base_uri": "https://localhost:8080/",
          "height": 67
        }
      },
      "source": [
        "y_predict"
      ],
      "execution_count": 60,
      "outputs": [
        {
          "output_type": "execute_result",
          "data": {
            "text/plain": [
              "array([[ 5.29917115],\n",
              "       [ 9.26083766],\n",
              "       [22.48507807]])"
            ]
          },
          "metadata": {
            "tags": []
          },
          "execution_count": 60
        }
      ]
    },
    {
      "cell_type": "code",
      "metadata": {
        "colab_type": "code",
        "id": "jex6itEvuMiv",
        "outputId": "ab6b5e21-01b2-4929-df14-1f2254f80be2",
        "colab": {
          "base_uri": "https://localhost:8080/",
          "height": 34
        }
      },
      "source": [
        "y_original = 0.5 * 0 + 0 + 5  # আমরা প্রেডিক্ট করেছিলাম 5.00....\n",
        "y_original"
      ],
      "execution_count": 61,
      "outputs": [
        {
          "output_type": "execute_result",
          "data": {
            "text/plain": [
              "5.0"
            ]
          },
          "metadata": {
            "tags": []
          },
          "execution_count": 61
        }
      ]
    },
    {
      "cell_type": "code",
      "metadata": {
        "colab_type": "code",
        "id": "7_lkytAguO8p",
        "outputId": "91be6205-e28b-4961-c890-0de2e6a3aed0",
        "colab": {
          "base_uri": "https://localhost:8080/",
          "height": 34
        }
      },
      "source": [
        "y_original = 0.5 * (2**2) + 2 + 5 #আমরা প্রেডিক্ট করেছিলাম 8.97....\n",
        "y_original"
      ],
      "execution_count": 62,
      "outputs": [
        {
          "output_type": "execute_result",
          "data": {
            "text/plain": [
              "9.0"
            ]
          },
          "metadata": {
            "tags": []
          },
          "execution_count": 62
        }
      ]
    },
    {
      "cell_type": "code",
      "metadata": {
        "colab_type": "code",
        "id": "QAml_7z_uSYN",
        "outputId": "d9401e5e-4853-4442-8dd2-9a7687d2ada1",
        "colab": {
          "base_uri": "https://localhost:8080/",
          "height": 34
        }
      },
      "source": [
        "y_original = 0.5 * (5**2) + 5 + 5 #আমরা প্রেডিক্ট করেছিলাম 22.24...\n",
        "y_original   "
      ],
      "execution_count": 63,
      "outputs": [
        {
          "output_type": "execute_result",
          "data": {
            "text/plain": [
              "22.5"
            ]
          },
          "metadata": {
            "tags": []
          },
          "execution_count": 63
        }
      ]
    },
    {
      "cell_type": "markdown",
      "metadata": {
        "colab_type": "text",
        "id": "xdU4T3IqVNQl"
      },
      "source": [
        "## আমরা একটা পাইপলাইনের উদাহরণ দেখি"
      ]
    },
    {
      "cell_type": "code",
      "metadata": {
        "colab_type": "code",
        "id": "itivQxorOLlN",
        "colab": {}
      },
      "source": [
        "X = np.array([[  1.,   1.,   1.],\n",
        "              [  2.,   4.,   8.],\n",
        "              [  3.,   9.,  27.],\n",
        "              [  4.,  nan,  64.],\n",
        "              [  5.,  25., 125.],\n",
        "              [  6.,  36., 216.],\n",
        "              [  7.,  49., nan, ],\n",
        "              [  8.,  64., 512.]])"
      ],
      "execution_count": 0,
      "outputs": []
    },
    {
      "cell_type": "code",
      "metadata": {
        "colab_type": "code",
        "id": "8GyvvbXOjfpr",
        "outputId": "e50627c8-5d00-42c0-a563-9f4e9286d33c",
        "colab": {
          "base_uri": "https://localhost:8080/",
          "height": 0
        }
      },
      "source": [
        "from sklearn.impute import SimpleImputer\n",
        "imputer = SimpleImputer(strategy='mean')\n",
        "\n",
        "X2 = imputer.fit_transform(X)\n",
        "X2"
      ],
      "execution_count": 65,
      "outputs": [
        {
          "output_type": "execute_result",
          "data": {
            "text/plain": [
              "array([[  1.        ,   1.        ,   1.        ],\n",
              "       [  2.        ,   4.        ,   8.        ],\n",
              "       [  3.        ,   9.        ,  27.        ],\n",
              "       [  4.        ,  26.85714286,  64.        ],\n",
              "       [  5.        ,  25.        , 125.        ],\n",
              "       [  6.        ,  36.        , 216.        ],\n",
              "       [  7.        ,  49.        , 136.14285714],\n",
              "       [  8.        ,  64.        , 512.        ]])"
            ]
          },
          "metadata": {
            "tags": []
          },
          "execution_count": 65
        }
      ]
    },
    {
      "cell_type": "code",
      "metadata": {
        "colab_type": "code",
        "id": "vwrZUijf5_uZ",
        "outputId": "e95692a0-0342-499e-d9b3-fbad96238c73",
        "colab": {
          "base_uri": "https://localhost:8080/",
          "height": 0
        }
      },
      "source": [
        "from sklearn.preprocessing import MinMaxScaler\n",
        "scaler = MinMaxScaler()\n",
        "\n",
        "X_scaled = scaler.fit_transform(X2)\n",
        "\n",
        "X_scaled"
      ],
      "execution_count": 66,
      "outputs": [
        {
          "output_type": "execute_result",
          "data": {
            "text/plain": [
              "array([[0.        , 0.        , 0.        ],\n",
              "       [0.14285714, 0.04761905, 0.01369863],\n",
              "       [0.28571429, 0.12698413, 0.05088063],\n",
              "       [0.42857143, 0.41043084, 0.12328767],\n",
              "       [0.57142857, 0.38095238, 0.24266145],\n",
              "       [0.71428571, 0.55555556, 0.42074364],\n",
              "       [0.85714286, 0.76190476, 0.26446743],\n",
              "       [1.        , 1.        , 1.        ]])"
            ]
          },
          "metadata": {
            "tags": []
          },
          "execution_count": 66
        }
      ]
    },
    {
      "cell_type": "code",
      "metadata": {
        "colab_type": "code",
        "id": "naqOQ8vrBE1z",
        "outputId": "2daf27f9-1dd1-48ee-877b-3dfc99896df0",
        "colab": {
          "base_uri": "https://localhost:8080/",
          "height": 0
        }
      },
      "source": [
        "from sklearn.linear_model import Ridge\n",
        "\n",
        "linridge = Ridge(alpha=20.0).fit(X_scaled, y)\n",
        "\n",
        "linridge"
      ],
      "execution_count": 67,
      "outputs": [
        {
          "output_type": "execute_result",
          "data": {
            "text/plain": [
              "Ridge(alpha=20.0, copy_X=True, fit_intercept=True, max_iter=None,\n",
              "      normalize=False, random_state=None, solver='auto', tol=0.001)"
            ]
          },
          "metadata": {
            "tags": []
          },
          "execution_count": 67
        }
      ]
    },
    {
      "cell_type": "code",
      "metadata": {
        "colab_type": "code",
        "id": "2qCC5WAeBi9o",
        "outputId": "7b251c55-d763-43c5-aefa-9143e6cce490",
        "colab": {
          "base_uri": "https://localhost:8080/",
          "height": 0
        }
      },
      "source": [
        "X_scaled"
      ],
      "execution_count": 68,
      "outputs": [
        {
          "output_type": "execute_result",
          "data": {
            "text/plain": [
              "array([[0.        , 0.        , 0.        ],\n",
              "       [0.14285714, 0.04761905, 0.01369863],\n",
              "       [0.28571429, 0.12698413, 0.05088063],\n",
              "       [0.42857143, 0.41043084, 0.12328767],\n",
              "       [0.57142857, 0.38095238, 0.24266145],\n",
              "       [0.71428571, 0.55555556, 0.42074364],\n",
              "       [0.85714286, 0.76190476, 0.26446743],\n",
              "       [1.        , 1.        , 1.        ]])"
            ]
          },
          "metadata": {
            "tags": []
          },
          "execution_count": 68
        }
      ]
    },
    {
      "cell_type": "code",
      "metadata": {
        "colab_type": "code",
        "id": "rtpQVgorkVOC",
        "outputId": "915e419c-4c47-4029-ee9c-8d9a5565d920",
        "colab": {
          "base_uri": "https://localhost:8080/",
          "height": 0
        }
      },
      "source": [
        "from sklearn.linear_model import LinearRegression\n",
        "\n",
        "model = LinearRegression().fit(X2, y)\n",
        "model.predict(X2)"
      ],
      "execution_count": 69,
      "outputs": [
        {
          "output_type": "execute_result",
          "data": {
            "text/plain": [
              "array([1.37756364, 2.40616197, 3.39670132, 4.7353445 , 5.02305926,\n",
              "       5.53860593, 7.84880847, 5.67375491])"
            ]
          },
          "metadata": {
            "tags": []
          },
          "execution_count": 69
        }
      ]
    },
    {
      "cell_type": "code",
      "metadata": {
        "colab_type": "code",
        "id": "B4XQKBQXSLZz",
        "colab": {}
      },
      "source": [
        "from sklearn.pipeline import Pipeline\n",
        "\n",
        "pipe = Pipeline([('imputer', SimpleImputer(strategy='mean')),\n",
        "                ('minmax', MinMaxScaler()),\n",
        "                ('poly',  PolynomialFeatures(degree=2, include_bias=False)),\n",
        "                ('lr', LinearRegression())])"
      ],
      "execution_count": 0,
      "outputs": []
    },
    {
      "cell_type": "code",
      "metadata": {
        "colab_type": "code",
        "id": "t3SHM5bwXdLW",
        "outputId": "3f8a4444-312b-4ef2-b738-cef8049a1f05",
        "colab": {
          "base_uri": "https://localhost:8080/",
          "height": 0
        }
      },
      "source": [
        "pipe.fit(X, y)  # X with missing values, from above\n"
      ],
      "execution_count": 71,
      "outputs": [
        {
          "output_type": "execute_result",
          "data": {
            "text/plain": [
              "Pipeline(memory=None,\n",
              "         steps=[('imputer',\n",
              "                 SimpleImputer(add_indicator=False, copy=True, fill_value=None,\n",
              "                               missing_values=nan, strategy='mean',\n",
              "                               verbose=0)),\n",
              "                ('minmax', MinMaxScaler(copy=True, feature_range=(0, 1))),\n",
              "                ('poly',\n",
              "                 PolynomialFeatures(degree=2, include_bias=False,\n",
              "                                    interaction_only=False, order='C')),\n",
              "                ('lr',\n",
              "                 LinearRegression(copy_X=True, fit_intercept=True, n_jobs=None,\n",
              "                                  normalize=False))],\n",
              "         verbose=False)"
            ]
          },
          "metadata": {
            "tags": []
          },
          "execution_count": 71
        }
      ]
    },
    {
      "cell_type": "code",
      "metadata": {
        "colab_type": "code",
        "id": "2KDbOB_eaFL1",
        "outputId": "6ae5e52f-9217-4b43-809e-b675908e4b8d",
        "colab": {
          "base_uri": "https://localhost:8080/",
          "height": 0
        }
      },
      "source": [
        "print(y)\n",
        "print(pipe.predict(X))"
      ],
      "execution_count": 72,
      "outputs": [
        {
          "output_type": "stream",
          "text": [
            "[3 2 1 4 6 7 8 5]\n",
            "[3. 2. 1. 4. 6. 7. 8. 5.]\n"
          ],
          "name": "stdout"
        }
      ]
    },
    {
      "cell_type": "code",
      "metadata": {
        "colab_type": "code",
        "id": "ctjUthzkaBXp",
        "outputId": "d0f47616-83c2-41c2-a2f4-32c1086ff79b",
        "colab": {
          "base_uri": "https://localhost:8080/",
          "height": 0
        }
      },
      "source": [
        "score = pipe.score(X, y)\n",
        "print('Linear Regression pipeline test accuracy: %.2f' % score)"
      ],
      "execution_count": 73,
      "outputs": [
        {
          "output_type": "stream",
          "text": [
            "Linear Regression pipeline test accuracy: 1.00\n"
          ],
          "name": "stdout"
        }
      ]
    }
  ]
}