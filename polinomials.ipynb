{
  "nbformat": 4,
  "nbformat_minor": 0,
  "metadata": {
    "colab": {
      "name": "polinomials.ipynb",
      "provenance": [],
      "authorship_tag": "ABX9TyNBLyd8mDiU4wBppoOtP/OX",
      "include_colab_link": true
    },
    "kernelspec": {
      "name": "python3",
      "display_name": "Python 3"
    }
  },
  "cells": [
    {
      "cell_type": "markdown",
      "metadata": {
        "id": "view-in-github",
        "colab_type": "text"
      },
      "source": [
        "<a href=\"https://colab.research.google.com/github/raqueeb/Intermediate-scikit-learn/blob/master/polinomials.ipynb\" target=\"_parent\"><img src=\"https://colab.research.google.com/assets/colab-badge.svg\" alt=\"Open In Colab\"/></a>"
      ]
    },
    {
      "cell_type": "code",
      "metadata": {
        "id": "P_b7llTcsa7_",
        "colab_type": "code",
        "colab": {
          "base_uri": "https://localhost:8080/",
          "height": 50
        },
        "outputId": "de7981e4-b85e-4d1b-da9d-f1e05f391d4a"
      },
      "source": [
        "import numpy as np\n",
        "\n",
        "x = np.array([0,1,2,3,4,5])\n",
        "y = np.array([0,0.8,0.9,0.1,-0.8,-1])\n",
        "\n",
        "print(x)\n",
        "print(y)"
      ],
      "execution_count": 1,
      "outputs": [
        {
          "output_type": "stream",
          "text": [
            "[0 1 2 3 4 5]\n",
            "[ 0.   0.8  0.9  0.1 -0.8 -1. ]\n"
          ],
          "name": "stdout"
        }
      ]
    },
    {
      "cell_type": "code",
      "metadata": {
        "id": "Vtkp8E9csigO",
        "colab_type": "code",
        "colab": {
          "base_uri": "https://localhost:8080/",
          "height": 67
        },
        "outputId": "99d13074-45cc-45db-ab2b-6d098fa40abc"
      },
      "source": [
        "p1 = np.polyfit(x,y,1)\n",
        "p2 = np.polyfit(x,y,2)\n",
        "p3 = np.polyfit(x,y,3)\n",
        "\n",
        "print(p1)\n",
        "print(p2)\n",
        "print(p3)"
      ],
      "execution_count": 2,
      "outputs": [
        {
          "output_type": "stream",
          "text": [
            "[-0.30285714  0.75714286]\n",
            "[-0.16071429  0.50071429  0.22142857]\n",
            "[ 0.08703704 -0.81349206  1.69312169 -0.03968254]\n"
          ],
          "name": "stdout"
        }
      ]
    },
    {
      "cell_type": "code",
      "metadata": {
        "id": "f4esAjGNs06g",
        "colab_type": "code",
        "colab": {
          "base_uri": "https://localhost:8080/",
          "height": 265
        },
        "outputId": "bdbe40ab-bbdd-48e3-b688-1835fb0d75ed"
      },
      "source": [
        "import matplotlib.pyplot as plt\n",
        "plt.plot(x,y,'o')\n",
        "\n",
        "xp = np.linspace(-2,6,100)\n",
        "plt.plot(xp,np.polyval(p1,xp),'r-')\n",
        "plt.plot(xp,np.polyval(p2,xp),'b--')\n",
        "plt.plot(xp,np.polyval(p3,xp),'m:')\n",
        "\n",
        "plt.show()"
      ],
      "execution_count": 3,
      "outputs": [
        {
          "output_type": "display_data",
          "data": {
            "image/png": "[encoded data removed]",
            "text/plain": [
              "<Figure size 432x288 with 1 Axes>"
            ]
          },
          "metadata": {
            "tags": []
          }
        }
      ]
    }
  ]
}